{
 "metadata": {
  "language_info": {
   "codemirror_mode": {
    "name": "ipython",
    "version": 3
   },
   "file_extension": ".py",
   "mimetype": "text/x-python",
   "name": "python",
   "nbconvert_exporter": "python",
   "pygments_lexer": "ipython3",
   "version": "3.8.2-final"
  },
  "orig_nbformat": 2,
  "kernelspec": {
   "name": "python38264bitvenvvenv1c35bb63d8ff4e6aa6d1792b190afa1b",
   "display_name": "Python 3.8.2 64-bit ('.venv': venv)"
  }
 },
 "nbformat": 4,
 "nbformat_minor": 2,
 "cells": [
  {
   "cell_type": "markdown",
   "metadata": {},
   "source": [
    "# All methods of using tests\n",
    "\n",
    "There are some things you can and some things you can't do with tests.  This tutorial will show all of them."
   ]
  },
  {
   "cell_type": "code",
   "execution_count": 1,
   "metadata": {},
   "outputs": [],
   "source": [
    "from nornir_tests.plugins.processors import TestsProcessor\n",
    "from nornir_tests.plugins.tests import *\n",
    "from nornir_napalm.plugins.tasks import napalm_get, napalm_ping\n",
    "from nornir_rich.plugins.functions import RichResults\n",
    "from nornir import InitNornir\n",
    "\n",
    "nr = InitNornir(\n",
    "    inventory={\n",
    "        \"plugin\": \"SimpleInventory\",\n",
    "        \"options\": {\n",
    "            \"host_file\": \"data/hosts.yaml\",\n",
    "            \"group_file\": \"data/groups.yaml\",\n",
    "            \"defaults_file\": \"data/defaults.yaml\",\n",
    "        },\n",
    "    },\n",
    ")\n",
    "\n",
    "rr = RichResults()\n",
    "nr.processors.append(TestsProcessor())\n",
    "\n",
    "vyos = nr.filter(name=\"vyos\")"
   ]
  },
  {
   "cell_type": "markdown",
   "metadata": {},
   "source": [
    "## @ style decorator use\n",
    "\n",
    "This will only work as designed if not using task.run inside the function.  If there were a bunch of task.run statements in the function the decorators applied using @ syntax would not get applied."
   ]
  },
  {
   "cell_type": "code",
   "execution_count": 2,
   "metadata": {
    "tags": []
   },
   "outputs": [
    {
     "output_type": "display_data",
     "data": {
      "text/plain": "<rich.jupyter.JupyterRenderable at 0x7f5f1782a370>",
      "text/html": "<pre style=\"white-space:pre;overflow-x:auto;line-height:normal;font-family:Menlo,'DejaVu Sans Mono',consolas,'Courier New',monospace\">inner***************************************************************************\n</pre>\n"
     },
     "metadata": {}
    },
    {
     "output_type": "display_data",
     "data": {
      "text/plain": "<rich.jupyter.JupyterRenderable at 0x7f5f178b0670>",
      "text/html": "<pre style=\"white-space:pre;overflow-x:auto;line-height:normal;font-family:Menlo,'DejaVu Sans Mono',consolas,'Courier New',monospace\"><span style=\"color: #000080\">* vyos ** changed = </span><span style=\"color: #ff0000; font-style: italic\">False</span><span style=\"color: #000080\"> ******************************************************</span>\n</pre>\n"
     },
     "metadata": {}
    },
    {
     "output_type": "display_data",
     "data": {
      "text/plain": "<rich.jupyter.JupyterRenderable at 0x7f5f1782a400>",
      "text/html": "<pre style=\"white-space:pre;overflow-x:auto;line-height:normal;font-family:Menlo,'DejaVu Sans Mono',consolas,'Courier New',monospace\"><span style=\"color: #005f00\">vvvv inner ** changed = False vvvvvvvvvvvvvvvvvvvvvvvvvvvvvvvvvvvvvvvvvvvvv INFO</span>\n</pre>\n"
     },
     "metadata": {}
    },
    {
     "output_type": "display_data",
     "data": {
      "text/plain": "<rich.jupyter.JupyterRenderable at 0x7f5f1782a400>",
      "text/html": "<pre style=\"white-space:pre;overflow-x:auto;line-height:normal;font-family:Menlo,'DejaVu Sans Mono',consolas,'Courier New',monospace\">{\n    'interfaces': {\n        'eth0': {\n            'is_up': True,\n            'is_enabled': True,\n            'description': '',\n            'last_flapped': -1.0,\n            'mtu': -1,\n            'speed': 0,\n            'mac_address': '08:00:27:e0:28:63'\n        },\n        'lo': {\n            'is_up': True,\n            'is_enabled': True,\n            'description': '',\n            'last_flapped': -1.0,\n            'mtu': -1,\n            'speed': 0,\n            'mac_address': '00:00:00:00:00:00'\n        }\n    }\n}\n</pre>\n"
     },
     "metadata": {}
    },
    {
     "output_type": "display_data",
     "data": {
      "text/plain": "<rich.jupyter.JupyterRenderable at 0x7f5f15ffda60>",
      "text/html": "<pre style=\"white-space:pre;overflow-x:auto;line-height:normal;font-family:Menlo,'DejaVu Sans Mono',consolas,'Courier New',monospace\"><span style=\"color: #005f00\">test_jsonpath</span><span style=\"color: #005f00; font-weight: bold\">(</span><span style=\"color: #808000; font-style: italic\">fail_task</span><span style=\"color: #005f00\">=</span><span style=\"color: #00ff00; font-style: italic\">True</span><span style=\"color: #005f00\">, </span><span style=\"color: #808000; font-style: italic\">passed</span><span style=\"color: #005f00\">=</span><span style=\"color: #00ff00; font-style: italic\">True</span><span style=\"color: #005f00\">, </span><span style=\"color: #808000; font-style: italic\">exception</span><span style=\"color: #005f00\">=</span><span style=\"color: #008000\">''</span><span style=\"color: #005f00\">, </span><span style=\"color: #808000; font-style: italic\">assertion</span><span style=\"color: #005f00\">=</span><span style=\"color: #008000\">'is_true'</span><span style=\"color: #005f00\">, </span><span style=\"color: #808000; font-style: italic\">value</span><span style=\"color: #005f00\">=</span><span style=\"color: #800080; font-style: italic\">None</span><span style=\"color: #005f00\">, </span>\n<span style=\"color: #808000; font-style: italic\">path</span><span style=\"color: #005f00\">=</span><span style=\"color: #008000\">'interfaces.eth0.is_enabled'</span><span style=\"color: #005f00\">, </span><span style=\"color: #808000; font-style: italic\">host_data</span><span style=\"color: #005f00\">=</span><span style=\"color: #008000\">''</span><span style=\"color: #005f00\">, </span><span style=\"color: #808000; font-style: italic\">one_of</span><span style=\"color: #005f00\">=</span><span style=\"color: #ff0000; font-style: italic\">False</span><span style=\"color: #005f00\">, </span><span style=\"color: #808000; font-style: italic\">result_attr</span><span style=\"color: #005f00\">=</span><span style=\"color: #008000\">'result'</span><span style=\"color: #005f00\">, </span>\n<span style=\"color: #808000; font-style: italic\">matches</span><span style=\"color: #005f00\">=</span><span style=\"color: #005f00; font-weight: bold\">[</span><span style=\"color: #008000\">'interfaces.eth0.is_enabled'</span><span style=\"color: #005f00\">, </span><span style=\"color: #008000\">'interfaces.eth0.is_enabled'</span><span style=\"color: #005f00; font-weight: bold\">])</span>\n</pre>\n"
     },
     "metadata": {}
    },
    {
     "output_type": "display_data",
     "data": {
      "text/plain": "<rich.jupyter.JupyterRenderable at 0x7f5f15ffd9d0>",
      "text/html": "<pre style=\"white-space:pre;overflow-x:auto;line-height:normal;font-family:Menlo,'DejaVu Sans Mono',consolas,'Courier New',monospace\"><span style=\"color: #005f00\">test_timing</span><span style=\"color: #005f00; font-weight: bold\">(</span><span style=\"color: #808000; font-style: italic\">fail_task</span><span style=\"color: #005f00\">=</span><span style=\"color: #00ff00; font-style: italic\">True</span><span style=\"color: #005f00\">, </span><span style=\"color: #808000; font-style: italic\">passed</span><span style=\"color: #005f00\">=</span><span style=\"color: #00ff00; font-style: italic\">True</span><span style=\"color: #005f00\">, </span><span style=\"color: #808000; font-style: italic\">exception</span><span style=\"color: #005f00\">=</span><span style=\"color: #008000\">''</span><span style=\"color: #005f00\">, </span><span style=\"color: #808000; font-style: italic\">min_run_time</span><span style=\"color: #005f00\">=</span><span style=\"color: #000080; font-weight: bold\">0</span><span style=\"color: #005f00\">, </span><span style=\"color: #808000; font-style: italic\">max_run_time</span><span style=\"color: #005f00\">=</span><span style=\"color: #000080; font-weight: bold\">5</span><span style=\"color: #005f00\">, </span>\n<span style=\"color: #808000; font-style: italic\">t0</span><span style=\"color: #005f00\">=</span><span style=\"color: #000080; font-weight: bold\">1599898472.8542182</span><span style=\"color: #005f00\">, </span><span style=\"color: #808000; font-style: italic\">t1</span><span style=\"color: #005f00\">=</span><span style=\"color: #000080; font-weight: bold\">1599898474.881877</span><span style=\"color: #005f00\">, </span><span style=\"color: #808000; font-style: italic\">run_time</span><span style=\"color: #005f00\">=</span><span style=\"color: #000080; font-weight: bold\">-1</span><span style=\"color: #005f00; font-weight: bold\">)</span>\n</pre>\n"
     },
     "metadata": {}
    },
    {
     "output_type": "display_data",
     "data": {
      "text/plain": "<rich.jupyter.JupyterRenderable at 0x7f5f15ffdb20>",
      "text/html": "<pre style=\"white-space:pre;overflow-x:auto;line-height:normal;font-family:Menlo,'DejaVu Sans Mono',consolas,'Courier New',monospace\"><span style=\"color: #005f00\">test_until</span><span style=\"color: #005f00; font-weight: bold\">(</span><span style=\"color: #808000; font-style: italic\">fail_task</span><span style=\"color: #005f00\">=</span><span style=\"color: #ff0000; font-style: italic\">False</span><span style=\"color: #005f00\">, </span><span style=\"color: #808000; font-style: italic\">passed</span><span style=\"color: #005f00\">=</span><span style=\"color: #00ff00; font-style: italic\">True</span><span style=\"color: #005f00\">, </span><span style=\"color: #808000; font-style: italic\">exception</span><span style=\"color: #005f00\">=</span><span style=\"color: #008000\">''</span><span style=\"color: #005f00\">, </span><span style=\"color: #808000; font-style: italic\">initial_delay</span><span style=\"color: #005f00\">=</span><span style=\"color: #000080; font-weight: bold\">0</span><span style=\"color: #005f00\">, </span><span style=\"color: #808000; font-style: italic\">retries</span><span style=\"color: #005f00\">=</span><span style=\"color: #000080; font-weight: bold\">5</span><span style=\"color: #005f00\">, </span><span style=\"color: #808000; font-style: italic\">delay</span><span style=\"color: #005f00\">=</span><span style=\"color: #000080; font-weight: bold\">5</span><span style=\"color: #005f00\">, </span>\n<span style=\"color: #808000; font-style: italic\">reset_conns</span><span style=\"color: #005f00\">=</span><span style=\"color: #ff0000; font-style: italic\">False</span><span style=\"color: #005f00\">, </span><span style=\"color: #808000; font-style: italic\">t0</span><span style=\"color: #005f00\">=</span><span style=\"color: #000080; font-weight: bold\">1599898461.220833</span><span style=\"color: #005f00\">, </span><span style=\"color: #808000; font-style: italic\">t1</span><span style=\"color: #005f00\">=</span><span style=\"color: #000080; font-weight: bold\">1599898474.8818874</span><span style=\"color: #005f00\">, </span><span style=\"color: #808000; font-style: italic\">run_time</span><span style=\"color: #005f00\">=</span><span style=\"color: #000080; font-weight: bold\">13.661054372787476</span><span style=\"color: #005f00; font-weight: bold\">)</span>\n</pre>\n"
     },
     "metadata": {}
    },
    {
     "output_type": "display_data",
     "data": {
      "text/plain": "<rich.jupyter.JupyterRenderable at 0x7f5f17859eb0>",
      "text/html": "<pre style=\"white-space:pre;overflow-x:auto;line-height:normal;font-family:Menlo,'DejaVu Sans Mono',consolas,'Courier New',monospace\"><span style=\"color: #005f00\">^^^^ END inner ^^^^^^^^^^^^^^^^^^^^^^^^^^^^^^^^^^^^^^^^^^^^^^^^^^^^^^^^^^^^^^^^^</span>\n</pre>\n"
     },
     "metadata": {}
    }
   ],
   "source": [
    "@test_until(retries=5, delay=5)\n",
    "@test_timing(max_run_time=5, fail_task=True)\n",
    "@test_jsonpath(path='interfaces.eth0.is_enabled', assertion='is_true', fail_task=True)\n",
    "def at_syntax_test(task):\n",
    "    return napalm_get(task, getters=['interfaces'])\n",
    "\n",
    "rr.print(vyos.run(task=at_syntax_test))"
   ]
  },
  {
   "cell_type": "markdown",
   "metadata": {},
   "source": [
    "## Using nr.run with tasks that return results"
   ]
  },
  {
   "cell_type": "code",
   "execution_count": 3,
   "metadata": {
    "tags": []
   },
   "outputs": [
    {
     "output_type": "display_data",
     "data": {
      "text/plain": "<rich.jupyter.JupyterRenderable at 0x7f5f157b7ca0>",
      "text/html": "<pre style=\"white-space:pre;overflow-x:auto;line-height:normal;font-family:Menlo,'DejaVu Sans Mono',consolas,'Courier New',monospace\">napalm_get**********************************************************************\n</pre>\n"
     },
     "metadata": {}
    },
    {
     "output_type": "display_data",
     "data": {
      "text/plain": "<rich.jupyter.JupyterRenderable at 0x7f5f157b7970>",
      "text/html": "<pre style=\"white-space:pre;overflow-x:auto;line-height:normal;font-family:Menlo,'DejaVu Sans Mono',consolas,'Courier New',monospace\"><span style=\"color: #000080\">* vyos ** changed = </span><span style=\"color: #ff0000; font-style: italic\">False</span><span style=\"color: #000080\"> ******************************************************</span>\n</pre>\n"
     },
     "metadata": {}
    },
    {
     "output_type": "display_data",
     "data": {
      "text/plain": "<rich.jupyter.JupyterRenderable at 0x7f5f157b7d90>",
      "text/html": "<pre style=\"white-space:pre;overflow-x:auto;line-height:normal;font-family:Menlo,'DejaVu Sans Mono',consolas,'Courier New',monospace\"><span style=\"color: #005f00\">vvvv napalm_get ** changed = False vvvvvvvvvvvvvvvvvvvvvvvvvvvvvvvvvvvvvvvv INFO</span>\n</pre>\n"
     },
     "metadata": {}
    },
    {
     "output_type": "display_data",
     "data": {
      "text/plain": "<rich.jupyter.JupyterRenderable at 0x7f5f3404d940>",
      "text/html": "<pre style=\"white-space:pre;overflow-x:auto;line-height:normal;font-family:Menlo,'DejaVu Sans Mono',consolas,'Courier New',monospace\">{\n    'interfaces': {\n        'eth0': {\n            'is_up': True,\n            'is_enabled': True,\n            'description': '',\n            'last_flapped': -1.0,\n            'mtu': -1,\n            'speed': 0,\n            'mac_address': '08:00:27:e0:28:63'\n        },\n        'lo': {\n            'is_up': True,\n            'is_enabled': True,\n            'description': '',\n            'last_flapped': -1.0,\n            'mtu': -1,\n            'speed': 0,\n            'mac_address': '00:00:00:00:00:00'\n        }\n    }\n}\n</pre>\n"
     },
     "metadata": {}
    },
    {
     "output_type": "display_data",
     "data": {
      "text/plain": "<rich.jupyter.JupyterRenderable at 0x7f5f3404db50>",
      "text/html": "<pre style=\"white-space:pre;overflow-x:auto;line-height:normal;font-family:Menlo,'DejaVu Sans Mono',consolas,'Courier New',monospace\"><span style=\"color: #005f00\">test_timing</span><span style=\"color: #005f00; font-weight: bold\">(</span><span style=\"color: #808000; font-style: italic\">fail_task</span><span style=\"color: #005f00\">=</span><span style=\"color: #ff0000; font-style: italic\">False</span><span style=\"color: #005f00\">, </span><span style=\"color: #808000; font-style: italic\">passed</span><span style=\"color: #005f00\">=</span><span style=\"color: #00ff00; font-style: italic\">True</span><span style=\"color: #005f00\">, </span><span style=\"color: #808000; font-style: italic\">exception</span><span style=\"color: #005f00\">=</span><span style=\"color: #008000\">''</span><span style=\"color: #005f00\">, </span><span style=\"color: #808000; font-style: italic\">min_run_time</span><span style=\"color: #005f00\">=</span><span style=\"color: #000080; font-weight: bold\">0</span><span style=\"color: #005f00\">, </span>\n<span style=\"color: #808000; font-style: italic\">max_run_time</span><span style=\"color: #005f00\">=</span><span style=\"color: #000080; font-weight: bold\">9223372036854775807</span><span style=\"color: #005f00\">, </span><span style=\"color: #808000; font-style: italic\">t0</span><span style=\"color: #005f00\">=</span><span style=\"color: #000080; font-weight: bold\">1599898474.9777625</span><span style=\"color: #005f00\">, </span><span style=\"color: #808000; font-style: italic\">t1</span><span style=\"color: #005f00\">=</span><span style=\"color: #000080; font-weight: bold\">1599898476.989867</span><span style=\"color: #005f00\">, </span><span style=\"color: #808000; font-style: italic\">run_time</span><span style=\"color: #005f00\">=</span><span style=\"color: #000080; font-weight: bold\">-1</span><span style=\"color: #005f00; font-weight: bold\">)</span>\n</pre>\n"
     },
     "metadata": {}
    },
    {
     "output_type": "display_data",
     "data": {
      "text/plain": "<rich.jupyter.JupyterRenderable at 0x7f5f34633b50>",
      "text/html": "<pre style=\"white-space:pre;overflow-x:auto;line-height:normal;font-family:Menlo,'DejaVu Sans Mono',consolas,'Courier New',monospace\"><span style=\"color: #005f00\">test_jsonpath</span><span style=\"color: #005f00; font-weight: bold\">(</span><span style=\"color: #808000; font-style: italic\">fail_task</span><span style=\"color: #005f00\">=</span><span style=\"color: #ff0000; font-style: italic\">False</span><span style=\"color: #005f00\">, </span><span style=\"color: #808000; font-style: italic\">passed</span><span style=\"color: #005f00\">=</span><span style=\"color: #00ff00; font-style: italic\">True</span><span style=\"color: #005f00\">, </span><span style=\"color: #808000; font-style: italic\">exception</span><span style=\"color: #005f00\">=</span><span style=\"color: #008000\">''</span><span style=\"color: #005f00\">, </span><span style=\"color: #808000; font-style: italic\">assertion</span><span style=\"color: #005f00\">=</span><span style=\"color: #008000\">'is_true'</span><span style=\"color: #005f00\">, </span><span style=\"color: #808000; font-style: italic\">value</span><span style=\"color: #005f00\">=</span><span style=\"color: #800080; font-style: italic\">None</span><span style=\"color: #005f00\">, </span>\n<span style=\"color: #808000; font-style: italic\">path</span><span style=\"color: #005f00\">=</span><span style=\"color: #008000\">'interfaces.eth0.is_up'</span><span style=\"color: #005f00\">, </span><span style=\"color: #808000; font-style: italic\">host_data</span><span style=\"color: #005f00\">=</span><span style=\"color: #008000\">''</span><span style=\"color: #005f00\">, </span><span style=\"color: #808000; font-style: italic\">one_of</span><span style=\"color: #005f00\">=</span><span style=\"color: #ff0000; font-style: italic\">False</span><span style=\"color: #005f00\">, </span><span style=\"color: #808000; font-style: italic\">result_attr</span><span style=\"color: #005f00\">=</span><span style=\"color: #008000\">'result'</span><span style=\"color: #005f00\">, </span>\n<span style=\"color: #808000; font-style: italic\">matches</span><span style=\"color: #005f00\">=</span><span style=\"color: #005f00; font-weight: bold\">[</span><span style=\"color: #008000\">'interfaces.eth0.is_up'</span><span style=\"color: #005f00; font-weight: bold\">])</span>\n</pre>\n"
     },
     "metadata": {}
    },
    {
     "output_type": "display_data",
     "data": {
      "text/plain": "<rich.jupyter.JupyterRenderable at 0x7f5f34633b50>",
      "text/html": "<pre style=\"white-space:pre;overflow-x:auto;line-height:normal;font-family:Menlo,'DejaVu Sans Mono',consolas,'Courier New',monospace\"><span style=\"color: #005f00\">^^^^ END napalm_get ^^^^^^^^^^^^^^^^^^^^^^^^^^^^^^^^^^^^^^^^^^^^^^^^^^^^^^^^^^^^</span>\n</pre>\n"
     },
     "metadata": {}
    }
   ],
   "source": [
    "rr.print(vyos.run(\n",
    "    task=napalm_get,\n",
    "    getters=['interfaces'],\n",
    "    tests=[\n",
    "        test_timing(),\n",
    "        test_jsonpath(path='interfaces.eth0.is_up', assertion='is_true')\n",
    "    ]\n",
    "))"
   ]
  },
  {
   "cell_type": "markdown",
   "metadata": {},
   "source": [
    "## Using task.run inside grouped task"
   ]
  },
  {
   "cell_type": "code",
   "execution_count": 4,
   "metadata": {
    "tags": []
   },
   "outputs": [
    {
     "output_type": "display_data",
     "data": {
      "text/plain": "<rich.jupyter.JupyterRenderable at 0x7f5f1782a370>",
      "text/html": "<pre style=\"white-space:pre;overflow-x:auto;line-height:normal;font-family:Menlo,'DejaVu Sans Mono',consolas,'Courier New',monospace\">grouped_task********************************************************************\n</pre>\n"
     },
     "metadata": {}
    },
    {
     "output_type": "display_data",
     "data": {
      "text/plain": "<rich.jupyter.JupyterRenderable at 0x7f5f15fe6cd0>",
      "text/html": "<pre style=\"white-space:pre;overflow-x:auto;line-height:normal;font-family:Menlo,'DejaVu Sans Mono',consolas,'Courier New',monospace\"><span style=\"color: #000080\">* vyos ** changed = </span><span style=\"color: #ff0000; font-style: italic\">False</span><span style=\"color: #000080\"> ******************************************************</span>\n</pre>\n"
     },
     "metadata": {}
    },
    {
     "output_type": "display_data",
     "data": {
      "text/plain": "<rich.jupyter.JupyterRenderable at 0x7f5f15fe6100>",
      "text/html": "<pre style=\"white-space:pre;overflow-x:auto;line-height:normal;font-family:Menlo,'DejaVu Sans Mono',consolas,'Courier New',monospace\"><span style=\"color: #005f00\">vvvv grouped_task ** changed = False vvvvvvvvvvvvvvvvvvvvvvvvvvvvvvvvvvvvvv INFO</span>\n</pre>\n"
     },
     "metadata": {}
    },
    {
     "output_type": "display_data",
     "data": {
      "text/plain": "<rich.jupyter.JupyterRenderable at 0x7f5f15fe6100>",
      "text/html": "<pre style=\"white-space:pre;overflow-x:auto;line-height:normal;font-family:Menlo,'DejaVu Sans Mono',consolas,'Courier New',monospace\"><span style=\"color: #005f00\">---- napalm_ping ** changed = False --------------------------------------- INFO</span>\n</pre>\n"
     },
     "metadata": {}
    },
    {
     "output_type": "display_data",
     "data": {
      "text/plain": "<rich.jupyter.JupyterRenderable at 0x7f5f3404d940>",
      "text/html": "<pre style=\"white-space:pre;overflow-x:auto;line-height:normal;font-family:Menlo,'DejaVu Sans Mono',consolas,'Courier New',monospace\">TestList(tests=[test_timing(fail_task=False, passed=True, exception='', min_run_time=0, \nmax_run_time=9223372036854775807, t0=1599898477.0901484, t1=1599898482.0033119, \nrun_time=-1)])\n</pre>\n"
     },
     "metadata": {}
    },
    {
     "output_type": "display_data",
     "data": {
      "text/plain": "<rich.jupyter.JupyterRenderable at 0x7f5f15fe6cd0>",
      "text/html": "<pre style=\"white-space:pre;overflow-x:auto;line-height:normal;font-family:Menlo,'DejaVu Sans Mono',consolas,'Courier New',monospace\"><span style=\"color: #005f00\">test_timing</span><span style=\"color: #005f00; font-weight: bold\">(</span><span style=\"color: #808000; font-style: italic\">fail_task</span><span style=\"color: #005f00\">=</span><span style=\"color: #ff0000; font-style: italic\">False</span><span style=\"color: #005f00\">, </span><span style=\"color: #808000; font-style: italic\">passed</span><span style=\"color: #005f00\">=</span><span style=\"color: #00ff00; font-style: italic\">True</span><span style=\"color: #005f00\">, </span><span style=\"color: #808000; font-style: italic\">exception</span><span style=\"color: #005f00\">=</span><span style=\"color: #008000\">''</span><span style=\"color: #005f00\">, </span><span style=\"color: #808000; font-style: italic\">min_run_time</span><span style=\"color: #005f00\">=</span><span style=\"color: #000080; font-weight: bold\">0</span><span style=\"color: #005f00\">, </span>\n<span style=\"color: #808000; font-style: italic\">max_run_time</span><span style=\"color: #005f00\">=</span><span style=\"color: #000080; font-weight: bold\">9223372036854775807</span><span style=\"color: #005f00\">, </span><span style=\"color: #808000; font-style: italic\">t0</span><span style=\"color: #005f00\">=</span><span style=\"color: #000080; font-weight: bold\">1599898477.0901484</span><span style=\"color: #005f00\">, </span><span style=\"color: #808000; font-style: italic\">t1</span><span style=\"color: #005f00\">=</span><span style=\"color: #000080; font-weight: bold\">1599898482.0033119</span><span style=\"color: #005f00\">, </span><span style=\"color: #808000; font-style: italic\">run_time</span><span style=\"color: #005f00\">=</span><span style=\"color: #000080; font-weight: bold\">-1</span><span style=\"color: #005f00; font-weight: bold\">)</span>\n</pre>\n"
     },
     "metadata": {}
    },
    {
     "output_type": "display_data",
     "data": {
      "text/plain": "<rich.jupyter.JupyterRenderable at 0x7f5f15fe6a90>",
      "text/html": "<pre style=\"white-space:pre;overflow-x:auto;line-height:normal;font-family:Menlo,'DejaVu Sans Mono',consolas,'Courier New',monospace\"><span style=\"color: #005f00\">---- napalm_get ** changed = False ---------------------------------------- INFO</span>\n</pre>\n"
     },
     "metadata": {}
    },
    {
     "output_type": "display_data",
     "data": {
      "text/plain": "<rich.jupyter.JupyterRenderable at 0x7f5f15fe6a90>",
      "text/html": "<pre style=\"white-space:pre;overflow-x:auto;line-height:normal;font-family:Menlo,'DejaVu Sans Mono',consolas,'Courier New',monospace\">TestList(tests=[test_jsonpath(fail_task=False, passed=True, exception='', \nassertion='is_true', value=None, path='interfaces.eth0.is_up', host_data='', one_of=False, \nresult_attr='result', matches=['interfaces.eth0.is_up'])])\n</pre>\n"
     },
     "metadata": {}
    },
    {
     "output_type": "display_data",
     "data": {
      "text/plain": "<rich.jupyter.JupyterRenderable at 0x7f5f15fe6cd0>",
      "text/html": "<pre style=\"white-space:pre;overflow-x:auto;line-height:normal;font-family:Menlo,'DejaVu Sans Mono',consolas,'Courier New',monospace\"><span style=\"color: #005f00\">test_jsonpath</span><span style=\"color: #005f00; font-weight: bold\">(</span><span style=\"color: #808000; font-style: italic\">fail_task</span><span style=\"color: #005f00\">=</span><span style=\"color: #ff0000; font-style: italic\">False</span><span style=\"color: #005f00\">, </span><span style=\"color: #808000; font-style: italic\">passed</span><span style=\"color: #005f00\">=</span><span style=\"color: #00ff00; font-style: italic\">True</span><span style=\"color: #005f00\">, </span><span style=\"color: #808000; font-style: italic\">exception</span><span style=\"color: #005f00\">=</span><span style=\"color: #008000\">''</span><span style=\"color: #005f00\">, </span><span style=\"color: #808000; font-style: italic\">assertion</span><span style=\"color: #005f00\">=</span><span style=\"color: #008000\">'is_true'</span><span style=\"color: #005f00\">, </span><span style=\"color: #808000; font-style: italic\">value</span><span style=\"color: #005f00\">=</span><span style=\"color: #800080; font-style: italic\">None</span><span style=\"color: #005f00\">, </span>\n<span style=\"color: #808000; font-style: italic\">path</span><span style=\"color: #005f00\">=</span><span style=\"color: #008000\">'interfaces.eth0.is_up'</span><span style=\"color: #005f00\">, </span><span style=\"color: #808000; font-style: italic\">host_data</span><span style=\"color: #005f00\">=</span><span style=\"color: #008000\">''</span><span style=\"color: #005f00\">, </span><span style=\"color: #808000; font-style: italic\">one_of</span><span style=\"color: #005f00\">=</span><span style=\"color: #ff0000; font-style: italic\">False</span><span style=\"color: #005f00\">, </span><span style=\"color: #808000; font-style: italic\">result_attr</span><span style=\"color: #005f00\">=</span><span style=\"color: #008000\">'result'</span><span style=\"color: #005f00\">, </span>\n<span style=\"color: #808000; font-style: italic\">matches</span><span style=\"color: #005f00\">=</span><span style=\"color: #005f00; font-weight: bold\">[</span><span style=\"color: #008000\">'interfaces.eth0.is_up'</span><span style=\"color: #005f00; font-weight: bold\">])</span>\n</pre>\n"
     },
     "metadata": {}
    },
    {
     "output_type": "display_data",
     "data": {
      "text/plain": "<rich.jupyter.JupyterRenderable at 0x7f5f15fe60a0>",
      "text/html": "<pre style=\"white-space:pre;overflow-x:auto;line-height:normal;font-family:Menlo,'DejaVu Sans Mono',consolas,'Courier New',monospace\"><span style=\"color: #005f00\">^^^^ END grouped_task ^^^^^^^^^^^^^^^^^^^^^^^^^^^^^^^^^^^^^^^^^^^^^^^^^^^^^^^^^^</span>\n</pre>\n"
     },
     "metadata": {}
    }
   ],
   "source": [
    "def grouped_task(task):\n",
    "    task.run(\n",
    "        napalm_ping,\n",
    "        dest='192.168.99.1',\n",
    "        tests=[\n",
    "            test_timing()\n",
    "        ]\n",
    "    )\n",
    "\n",
    "    task.run(\n",
    "        napalm_get, \n",
    "        getters=['interfaces'], \n",
    "        tests=[\n",
    "            test_jsonpath(path='interfaces.eth0.is_up', assertion='is_true')\n",
    "        ]\n",
    "    )\n",
    "\n",
    "rr.print(vyos.run(task=grouped_task), vars=['tests'])"
   ]
  },
  {
   "cell_type": "markdown",
   "metadata": {},
   "source": [
    "## Not supported\n",
    "\n",
    "Testing a grouped_task at the level of running nr.run will not work.  There is not much you would be able to test without really complex logic anyhow considering this always returns an AggregatedResult."
   ]
  }
 ]
}