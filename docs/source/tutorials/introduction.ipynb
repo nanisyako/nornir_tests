{
 "metadata": {
  "language_info": {
   "codemirror_mode": {
    "name": "ipython",
    "version": 3
   },
   "file_extension": ".py",
   "mimetype": "text/x-python",
   "name": "python",
   "nbconvert_exporter": "python",
   "pygments_lexer": "ipython3",
   "version": "3.8.2-final"
  },
  "orig_nbformat": 2,
  "kernelspec": {
   "name": "python38264bitvenvvenv1c35bb63d8ff4e6aa6d1792b190afa1b",
   "display_name": "Python 3.8.2 64-bit ('.venv': venv)"
  }
 },
 "nbformat": 4,
 "nbformat_minor": 2,
 "cells": [
  {
   "cell_type": "markdown",
   "metadata": {},
   "source": [
    "# Introduction\n",
    "\n",
    "The idea behind nornir_tests is to allow for adding tests against the task run and its results.  Many times, a task can run and get some output but that doesn't mean it is successful.  One option is to add additional checks or tasks with some conditional logic to deal with this.  Another is to add tests against the data returned from a task.  That is what nornir_tests is for.\n",
    "\n",
    "The question is probably why use tests.  Tests were inspired by the same feature in postman.  In postman, a test was something that was done against the data returned from a postman request to determine if the request was actually successful.  This can certainly be added in python using either pure python or additional tasks but there is some elegance and some additional functionality obtained by using tests tied to tasks.  In this intro, I will try to touch on a variety of ideas using tests.  In further tutorials I'll go into more detail on using each of the test types."
   ]
  },
  {
   "cell_type": "markdown",
   "metadata": {},
   "source": [
    "Typical nornir initialization is done first."
   ]
  },
  {
   "cell_type": "code",
   "execution_count": 20,
   "metadata": {},
   "outputs": [],
   "source": [
    "from nornir_napalm.plugins.tasks import napalm_get, napalm_ping\n",
    "from nornir_rich.plugins.functions import RichResults\n",
    "from nornir import InitNornir\n",
    "\n",
    "nr = InitNornir(\n",
    "    inventory={\n",
    "        \"plugin\": \"SimpleInventory\",\n",
    "        \"options\": {\n",
    "            \"host_file\": \"data/hosts.yaml\",\n",
    "            \"group_file\": \"data/groups.yaml\",\n",
    "            \"defaults_file\": \"data/defaults.yaml\",\n",
    "        },\n",
    "    },\n",
    ")\n",
    "\n",
    "rr = RichResults(width=67)"
   ]
  },
  {
   "cell_type": "markdown",
   "metadata": {},
   "source": [
    "Next the TestsProcessor is appended to the processors list and the inventory is shown. This can be done using config.yaml as well or a few other ways that are covered in the Nornir documentation."
   ]
  },
  {
   "cell_type": "code",
   "execution_count": 22,
   "metadata": {
    "tags": []
   },
   "outputs": [
    {
     "output_type": "display_data",
     "data": {
      "text/plain": "<rich.jupyter.JupyterRenderable at 0x7f5b8e566d00>",
      "text/html": "<pre style=\"white-space:pre;overflow-x:auto;line-height:normal;font-family:Menlo,'DejaVu Sans Mono',consolas,'Courier New',monospace\">╭────────────┬────────────────────────────────────────────────────╮\n│<span style=\"font-weight: bold\"> Host       </span>│<span style=\"font-weight: bold\"> Data                                               </span>│\n├────────────┼────────────────────────────────────────────────────┤\n│ test       │ connection_options: {}                             │\n│            │ data: {}                                           │\n│            │ groups: []                                         │\n│            │ hostname: test                                     │\n│            │ name: test                                         │\n│            │ password: '******'                                 │\n│            │ platform: null                                     │\n│            │ port: null                                         │\n│            │ username: test                                     │\n│            │                                                    │\n├────────────┼────────────────────────────────────────────────────┤\n│ vyos       │ connection_options: {}                             │\n│            │ data: {}                                           │\n│            │ groups: []                                         │\n│            │ hostname: 192.168.99.170                           │\n│            │ name: vyos                                         │\n│            │ password: '******'                                 │\n│            │ platform: vyos                                     │\n│            │ port: null                                         │\n│            │ username: vyos                                     │\n│            │                                                    │\n╰────────────┴────────────────────────────────────────────────────╯\n</pre>\n"
     },
     "metadata": {}
    }
   ],
   "source": [
    "from nornir_tests.plugins.processors import TestsProcessor\n",
    "nr.processors.append(TestsProcessor())\n",
    "\n",
    "rr.inventory(nr)"
   ]
  },
  {
   "cell_type": "markdown",
   "metadata": {},
   "source": [
    "In the first example, a vyos router interface facts are obtained using napalm and a test is run to validate the result."
   ]
  },
  {
   "cell_type": "code",
   "execution_count": 24,
   "metadata": {
    "tags": []
   },
   "outputs": [
    {
     "output_type": "display_data",
     "data": {
      "text/plain": "<rich.jupyter.JupyterRenderable at 0x7f5b8e17e820>",
      "text/html": "<pre style=\"white-space:pre;overflow-x:auto;line-height:normal;font-family:Menlo,'DejaVu Sans Mono',consolas,'Courier New',monospace\">napalm_get*********************************************************\n</pre>\n"
     },
     "metadata": {}
    },
    {
     "output_type": "display_data",
     "data": {
      "text/plain": "<rich.jupyter.JupyterRenderable at 0x7f5b8e45aca0>",
      "text/html": "<pre style=\"white-space:pre;overflow-x:auto;line-height:normal;font-family:Menlo,'DejaVu Sans Mono',consolas,'Courier New',monospace\"><span style=\"color: #000080\">* vyos ** changed = </span><span style=\"color: #ff0000; font-style: italic\">False</span><span style=\"color: #000080\"> *****************************************</span>\n</pre>\n"
     },
     "metadata": {}
    },
    {
     "output_type": "display_data",
     "data": {
      "text/plain": "<rich.jupyter.JupyterRenderable at 0x7f5b8e5f86a0>",
      "text/html": "<pre style=\"white-space:pre;overflow-x:auto;line-height:normal;font-family:Menlo,'DejaVu Sans Mono',consolas,'Courier New',monospace\"><span style=\"color: #005f00\">vvvv napalm_get ** changed = False vvvvvvvvvvvvvvvvvvvvvvvvvvv INFO</span>\n</pre>\n"
     },
     "metadata": {}
    },
    {
     "output_type": "display_data",
     "data": {
      "text/plain": "<rich.jupyter.JupyterRenderable at 0x7f5b8e5f8070>",
      "text/html": "<pre style=\"white-space:pre;overflow-x:auto;line-height:normal;font-family:Menlo,'DejaVu Sans Mono',consolas,'Courier New',monospace\">{\n    'interfaces': {\n        'eth0': {\n            'is_up': True,\n            'is_enabled': True,\n            'description': '',\n            'last_flapped': -1.0,\n            'mtu': -1,\n            'speed': 0,\n            'mac_address': '08:00:27:e0:28:63'\n        },\n        'lo': {\n            'is_up': True,\n            'is_enabled': True,\n            'description': '',\n            'last_flapped': -1.0,\n            'mtu': -1,\n            'speed': 0,\n            'mac_address': '00:00:00:00:00:00'\n        }\n    }\n}\n</pre>\n"
     },
     "metadata": {}
    },
    {
     "output_type": "display_data",
     "data": {
      "text/plain": "<rich.jupyter.JupyterRenderable at 0x7f5b8dfee0a0>",
      "text/html": "<pre style=\"white-space:pre;overflow-x:auto;line-height:normal;font-family:Menlo,'DejaVu Sans Mono',consolas,'Courier New',monospace\"><span style=\"color: #005f00\">test_jsonpath</span><span style=\"color: #005f00; font-weight: bold\">(</span><span style=\"color: #808000; font-style: italic\">fail_task</span><span style=\"color: #005f00\">=</span><span style=\"color: #ff0000; font-style: italic\">False</span><span style=\"color: #005f00\">, </span><span style=\"color: #808000; font-style: italic\">passed</span><span style=\"color: #005f00\">=</span><span style=\"color: #00ff00; font-style: italic\">True</span><span style=\"color: #005f00\">, </span><span style=\"color: #808000; font-style: italic\">exception</span><span style=\"color: #005f00\">=</span><span style=\"color: #008000\">''</span><span style=\"color: #005f00\">, </span><span style=\"color: #808000; font-style: italic\">assertion</span><span style=\"color: #005f00\">=</span><span style=\"color: #008000\">'is_true'</span><span style=\"color: #005f00\">, </span><span style=\"color: #808000; font-style: italic\">value</span><span style=\"color: #005f00\">=</span><span style=\"color: #800080; font-style: italic\">None</span><span style=\"color: #005f00\">, </span>\n<span style=\"color: #808000; font-style: italic\">path</span><span style=\"color: #005f00\">=</span><span style=\"color: #008000\">'interfaces.eth0.is_up'</span><span style=\"color: #005f00\">, </span><span style=\"color: #808000; font-style: italic\">host_data</span><span style=\"color: #005f00\">=</span><span style=\"color: #008000\">''</span><span style=\"color: #005f00\">, </span><span style=\"color: #808000; font-style: italic\">one_of</span><span style=\"color: #005f00\">=</span><span style=\"color: #ff0000; font-style: italic\">False</span><span style=\"color: #005f00\">, </span><span style=\"color: #808000; font-style: italic\">result_attr</span><span style=\"color: #005f00\">=</span><span style=\"color: #008000\">'result'</span><span style=\"color: #005f00\">, </span>\n<span style=\"color: #808000; font-style: italic\">matches</span><span style=\"color: #005f00\">=</span><span style=\"color: #005f00; font-weight: bold\">[</span><span style=\"color: #008000\">'interfaces.eth0.is_up'</span><span style=\"color: #005f00; font-weight: bold\">])</span>\n</pre>\n"
     },
     "metadata": {}
    },
    {
     "output_type": "display_data",
     "data": {
      "text/plain": "<rich.jupyter.JupyterRenderable at 0x7f5b8e00fa90>",
      "text/html": "<pre style=\"white-space:pre;overflow-x:auto;line-height:normal;font-family:Menlo,'DejaVu Sans Mono',consolas,'Courier New',monospace\"><span style=\"color: #005f00\">^^^^ END napalm_get ^^^^^^^^^^^^^^^^^^^^^^^^^^^^^^^^^^^^^^^^^^^^^^^</span>\n</pre>\n"
     },
     "metadata": {}
    }
   ],
   "source": [
    "from nornir_tests.plugins.tests import test_regexp, test_until, test_timing, test_jsonpath\n",
    "\n",
    "vyos = nr.filter(name='vyos')\n",
    "\n",
    "result = vyos.run(\n",
    "    task=napalm_get,\n",
    "    getters=['interfaces'],\n",
    "    tests=[\n",
    "        test_jsonpath(path='interfaces.eth0.is_up', assertion='is_true'),\n",
    "    ]\n",
    ")\n",
    "\n",
    "rr.print(result)"
   ]
  },
  {
   "cell_type": "markdown",
   "metadata": {},
   "source": [
    "Next a ping is sent to the vyos device using the timing test.  As can be seen in the output, this gives runtime of the task and can be enhanced with min_run_time and max_run_time to affect the task result if the fail_task argument is used.  If a failure occurs in the test and fail_task is set to True, then the task will be marked as failed."
   ]
  },
  {
   "cell_type": "code",
   "execution_count": 26,
   "metadata": {
    "tags": []
   },
   "outputs": [
    {
     "output_type": "display_data",
     "data": {
      "text/plain": "<rich.jupyter.JupyterRenderable at 0x7f5bb1451400>",
      "text/html": "<pre style=\"white-space:pre;overflow-x:auto;line-height:normal;font-family:Menlo,'DejaVu Sans Mono',consolas,'Courier New',monospace\">napalm_ping********************************************************\n</pre>\n"
     },
     "metadata": {}
    },
    {
     "output_type": "display_data",
     "data": {
      "text/plain": "<rich.jupyter.JupyterRenderable at 0x7f5bb1451400>",
      "text/html": "<pre style=\"white-space:pre;overflow-x:auto;line-height:normal;font-family:Menlo,'DejaVu Sans Mono',consolas,'Courier New',monospace\"><span style=\"color: #000080\">* vyos ** changed = </span><span style=\"color: #ff0000; font-style: italic\">False</span><span style=\"color: #000080\"> *****************************************</span>\n</pre>\n"
     },
     "metadata": {}
    },
    {
     "output_type": "display_data",
     "data": {
      "text/plain": "<rich.jupyter.JupyterRenderable at 0x7f5b8e0a4280>",
      "text/html": "<pre style=\"white-space:pre;overflow-x:auto;line-height:normal;font-family:Menlo,'DejaVu Sans Mono',consolas,'Courier New',monospace\"><span style=\"color: #005f00\">vvvv napalm_ping ** changed = False vvvvvvvvvvvvvvvvvvvvvvvvvv INFO</span>\n</pre>\n"
     },
     "metadata": {}
    },
    {
     "output_type": "display_data",
     "data": {
      "text/plain": "<rich.jupyter.JupyterRenderable at 0x7f5bb1451df0>",
      "text/html": "<pre style=\"white-space:pre;overflow-x:auto;line-height:normal;font-family:Menlo,'DejaVu Sans Mono',consolas,'Courier New',monospace\">{\n    'success': {\n        'probes_sent': 5,\n        'packet_loss': 0,\n        'rtt_min': 2.94,\n        'rtt_max': 3.829,\n        'rtt_avg': 3.301,\n        'rtt_stddev': 0.318,\n        'results': [{'ip_address': '192.168.99.1', 'rtt': 3.301}]\n    }\n}\n</pre>\n"
     },
     "metadata": {}
    },
    {
     "output_type": "display_data",
     "data": {
      "text/plain": "<rich.jupyter.JupyterRenderable at 0x7f5b8e0a4550>",
      "text/html": "<pre style=\"white-space:pre;overflow-x:auto;line-height:normal;font-family:Menlo,'DejaVu Sans Mono',consolas,'Courier New',monospace\"><span style=\"color: #005f00\">test_timing</span><span style=\"color: #005f00; font-weight: bold\">(</span><span style=\"color: #808000; font-style: italic\">fail_task</span><span style=\"color: #005f00\">=</span><span style=\"color: #ff0000; font-style: italic\">False</span><span style=\"color: #005f00\">, </span><span style=\"color: #808000; font-style: italic\">passed</span><span style=\"color: #005f00\">=</span><span style=\"color: #00ff00; font-style: italic\">True</span><span style=\"color: #005f00\">, </span><span style=\"color: #808000; font-style: italic\">exception</span><span style=\"color: #005f00\">=</span><span style=\"color: #008000\">''</span><span style=\"color: #005f00\">, </span><span style=\"color: #808000; font-style: italic\">min_run_time</span><span style=\"color: #005f00\">=</span><span style=\"color: #000080; font-weight: bold\">0</span><span style=\"color: #005f00\">, </span>\n<span style=\"color: #808000; font-style: italic\">max_run_time</span><span style=\"color: #005f00\">=</span><span style=\"color: #000080; font-weight: bold\">9223372036854775807</span><span style=\"color: #005f00\">, </span><span style=\"color: #808000; font-style: italic\">t0</span><span style=\"color: #005f00\">=</span><span style=\"color: #000080; font-weight: bold\">1599900057.2015827</span><span style=\"color: #005f00\">, </span><span style=\"color: #808000; font-style: italic\">t1</span><span style=\"color: #005f00\">=</span><span style=\"color: #000080; font-weight: bold\">1599900062.1134906</span><span style=\"color: #005f00\">, </span><span style=\"color: #808000; font-style: italic\">run_time</span><span style=\"color: #005f00\">=</span><span style=\"color: #000080; font-weight: bold\">-1</span><span style=\"color: #005f00; font-weight: bold\">)</span>\n</pre>\n"
     },
     "metadata": {}
    },
    {
     "output_type": "display_data",
     "data": {
      "text/plain": "<rich.jupyter.JupyterRenderable at 0x7f5b8e00f610>",
      "text/html": "<pre style=\"white-space:pre;overflow-x:auto;line-height:normal;font-family:Menlo,'DejaVu Sans Mono',consolas,'Courier New',monospace\"><span style=\"color: #005f00\">^^^^ END napalm_ping ^^^^^^^^^^^^^^^^^^^^^^^^^^^^^^^^^^^^^^^^^^^^^^</span>\n</pre>\n"
     },
     "metadata": {}
    }
   ],
   "source": [
    "result = vyos.run(\n",
    "    task=napalm_ping,\n",
    "    dest='192.168.99.1',\n",
    "    tests=[\n",
    "        test_timing(),\n",
    "    ]\n",
    ")\n",
    "rr.print(result)"
   ]
  },
  {
   "cell_type": "markdown",
   "metadata": {},
   "source": [
    "The next example shows how the result failed state can be affected by a test."
   ]
  },
  {
   "cell_type": "code",
   "execution_count": 28,
   "metadata": {
    "tags": []
   },
   "outputs": [
    {
     "output_type": "display_data",
     "data": {
      "text/plain": "<rich.jupyter.JupyterRenderable at 0x7f5b8e5dcdf0>",
      "text/html": "<pre style=\"white-space:pre;overflow-x:auto;line-height:normal;font-family:Menlo,'DejaVu Sans Mono',consolas,'Courier New',monospace\">napalm_ping********************************************************\n</pre>\n"
     },
     "metadata": {}
    },
    {
     "output_type": "display_data",
     "data": {
      "text/plain": "<rich.jupyter.JupyterRenderable at 0x7f5b8e5dcdf0>",
      "text/html": "<pre style=\"white-space:pre;overflow-x:auto;line-height:normal;font-family:Menlo,'DejaVu Sans Mono',consolas,'Courier New',monospace\"><span style=\"color: #000080\">* vyos ** changed = </span><span style=\"color: #ff0000; font-style: italic\">False</span><span style=\"color: #000080\"> *****************************************</span>\n</pre>\n"
     },
     "metadata": {}
    },
    {
     "output_type": "display_data",
     "data": {
      "text/plain": "<rich.jupyter.JupyterRenderable at 0x7f5b8e0800a0>",
      "text/html": "<pre style=\"white-space:pre;overflow-x:auto;line-height:normal;font-family:Menlo,'DejaVu Sans Mono',consolas,'Courier New',monospace\"><span style=\"color: #800000\">vvvv napalm_ping ** changed = False vvvvvvvvvvvvvvvvvvvvvvvvv ERROR</span>\n</pre>\n"
     },
     "metadata": {}
    },
    {
     "output_type": "display_data",
     "data": {
      "text/plain": "<rich.jupyter.JupyterRenderable at 0x7f5b8e5dc7f0>",
      "text/html": "<pre style=\"white-space:pre;overflow-x:auto;line-height:normal;font-family:Menlo,'DejaVu Sans Mono',consolas,'Courier New',monospace\">{\n    'success': {\n        'probes_sent': 5,\n        'packet_loss': 0,\n        'rtt_min': 2.836,\n        'rtt_max': 3.931,\n        'rtt_avg': 3.319,\n        'rtt_stddev': 0.407,\n        'results': [{'ip_address': '192.168.99.1', 'rtt': 3.319}]\n    }\n}\n</pre>\n"
     },
     "metadata": {}
    },
    {
     "output_type": "display_data",
     "data": {
      "text/plain": "<rich.jupyter.JupyterRenderable at 0x7f5b8e5dc7f0>",
      "text/html": "<pre style=\"white-space:pre;overflow-x:auto;line-height:normal;font-family:Menlo,'DejaVu Sans Mono',consolas,'Courier New',monospace\"><span style=\"color: #800000\">test_timing</span><span style=\"color: #800000; font-weight: bold\">(</span><span style=\"color: #808000; font-style: italic\">fail_task</span><span style=\"color: #800000\">=</span><span style=\"color: #00ff00; font-style: italic\">True</span><span style=\"color: #800000\">, </span><span style=\"color: #808000; font-style: italic\">passed</span><span style=\"color: #800000\">=</span><span style=\"color: #ff0000; font-style: italic\">False</span><span style=\"color: #800000\">, </span><span style=\"color: #808000; font-style: italic\">exception</span><span style=\"color: #800000\">=</span><span style=\"color: #008000\">''</span><span style=\"color: #800000\">, </span><span style=\"color: #808000; font-style: italic\">min_run_time</span><span style=\"color: #800000\">=</span><span style=\"color: #000080; font-weight: bold\">0</span><span style=\"color: #800000\">, </span><span style=\"color: #808000; font-style: italic\">max_run_time</span><span style=\"color: #800000\">=</span><span style=\"color: #000080; font-weight: bold\">1</span><span style=\"color: #800000\">, </span>\n<span style=\"color: #808000; font-style: italic\">t0</span><span style=\"color: #800000\">=</span><span style=\"color: #000080; font-weight: bold\">1599900079.2495282</span><span style=\"color: #800000\">, </span><span style=\"color: #808000; font-style: italic\">t1</span><span style=\"color: #800000\">=</span><span style=\"color: #000080; font-weight: bold\">1599900084.1648505</span><span style=\"color: #800000\">, </span><span style=\"color: #808000; font-style: italic\">run_time</span><span style=\"color: #800000\">=</span><span style=\"color: #000080; font-weight: bold\">-1</span><span style=\"color: #800000; font-weight: bold\">)</span>\n</pre>\n"
     },
     "metadata": {}
    },
    {
     "output_type": "display_data",
     "data": {
      "text/plain": "<rich.jupyter.JupyterRenderable at 0x7f5b8e080070>",
      "text/html": "<pre style=\"white-space:pre;overflow-x:auto;line-height:normal;font-family:Menlo,'DejaVu Sans Mono',consolas,'Courier New',monospace\"><span style=\"color: #800000\">^^^^ END napalm_ping ^^^^^^^^^^^^^^^^^^^^^^^^^^^^^^^^^^^^^^^^^^^^^^</span>\n</pre>\n"
     },
     "metadata": {}
    }
   ],
   "source": [
    "result = vyos.run(\n",
    "    task=napalm_ping,\n",
    "    dest='192.168.99.1',\n",
    "    tests=[\n",
    "        test_timing(max_run_time=1, fail_task=True),\n",
    "    ]\n",
    ")\n",
    "rr.print(result)"
   ]
  },
  {
   "cell_type": "markdown",
   "metadata": {},
   "source": [
    "Tests can be stacked and the entire task and associated tests can be retried using test_until.  The next test shows how a rebooted device can be retried until it comes back up using only tests.  As napalm for vyos doesn't currently support CLI, I rebooted it manually and ran the ping below to show it was down."
   ]
  },
  {
   "cell_type": "code",
   "execution_count": 31,
   "metadata": {
    "tags": []
   },
   "outputs": [
    {
     "output_type": "display_data",
     "data": {
      "text/plain": "<rich.jupyter.JupyterRenderable at 0x7f5b8e28eb80>",
      "text/html": "<pre style=\"white-space:pre;overflow-x:auto;line-height:normal;font-family:Menlo,'DejaVu Sans Mono',consolas,'Courier New',monospace\">napalm_ping********************************************************\n</pre>\n"
     },
     "metadata": {}
    },
    {
     "output_type": "display_data",
     "data": {
      "text/plain": "<rich.jupyter.JupyterRenderable at 0x7f5b8e01b850>",
      "text/html": "<pre style=\"white-space:pre;overflow-x:auto;line-height:normal;font-family:Menlo,'DejaVu Sans Mono',consolas,'Courier New',monospace\"><span style=\"color: #000080\">* vyos ** changed = </span><span style=\"color: #ff0000; font-style: italic\">False</span><span style=\"color: #000080\"> *****************************************</span>\n</pre>\n"
     },
     "metadata": {}
    },
    {
     "output_type": "display_data",
     "data": {
      "text/plain": "<rich.jupyter.JupyterRenderable at 0x7f5b8e42ce80>",
      "text/html": "<pre style=\"white-space:pre;overflow-x:auto;line-height:normal;font-family:Menlo,'DejaVu Sans Mono',consolas,'Courier New',monospace\"><span style=\"color: #800000\">vvvv napalm_ping ** changed = False vvvvvvvvvvvvvvvvvvvvvvvvv ERROR</span>\n</pre>\n"
     },
     "metadata": {}
    },
    {
     "output_type": "display_data",
     "data": {
      "text/plain": "<rich.jupyter.JupyterRenderable at 0x7f5bb06dceb0>",
      "text/html": "<pre style=\"white-space:pre;overflow-x:auto;line-height:normal;font-family:Menlo,'DejaVu Sans Mono',consolas,'Courier New',monospace\">Traceback (most recent call last):\n  File \n\"/home/patrick/dev/nornir_tests/.venv/lib/python3.8/site-packages/nornir/core/task.py\", line \n98, in start\n    r = self.task(self, **self.params)\n  File \"/home/patrick/dev/nornir_tests/.venv/lib/python3.8/site-packages/nornir_napalm/plugin\ns/tasks/napalm_ping.py\", line 37, in napalm_ping\n    result = device.ping(\n  File \n\"/home/patrick/dev/nornir_tests/.venv/lib/python3.8/site-packages/napalm_vyos/vyos.py\", line \n857, in ping\n    output_ping = self.device.send_command(command)\n  File \n\"/home/patrick/dev/nornir_tests/.venv/lib/python3.8/site-packages/netmiko/utilities.py\", line\n363, in wrapper_decorator\n    return func(self, *args, **kwargs)\n  File \"/home/patrick/dev/nornir_tests/.venv/lib/python3.8/site-packages/netmiko/base_connect\nion.py\", line 1426, in send_command\n    prompt = self.find_prompt(delay_factor=delay_factor)\n  File \"/home/patrick/dev/nornir_tests/.venv/lib/python3.8/site-packages/netmiko/base_connect\nion.py\", line 1154, in find_prompt\n    self.write_channel(self.RETURN)\n  File \"/home/patrick/dev/nornir_tests/.venv/lib/python3.8/site-packages/netmiko/base_connect\nion.py\", line 453, in write_channel\n    self._write_channel(out_data)\n  File \"/home/patrick/dev/nornir_tests/.venv/lib/python3.8/site-packages/netmiko/base_connect\nion.py\", line 411, in _write_channel\n    self.remote_conn.sendall(write_bytes(out_data, encoding=self.encoding))\n  File \n\"/home/patrick/dev/nornir_tests/.venv/lib/python3.8/site-packages/paramiko/channel.py\", line \n846, in sendall\n    sent = self.send(s)\n  File \n\"/home/patrick/dev/nornir_tests/.venv/lib/python3.8/site-packages/paramiko/channel.py\", line \n801, in send\n    return self._send(s, m)\n  File \n\"/home/patrick/dev/nornir_tests/.venv/lib/python3.8/site-packages/paramiko/channel.py\", line \n1198, in _send\n    raise socket.error(\"Socket is closed\")\nOSError: Socket is closed\n\n</pre>\n"
     },
     "metadata": {}
    },
    {
     "output_type": "display_data",
     "data": {
      "text/plain": "<rich.jupyter.JupyterRenderable at 0x7f5b8e28ee50>",
      "text/html": "<pre style=\"white-space:pre;overflow-x:auto;line-height:normal;font-family:Menlo,'DejaVu Sans Mono',consolas,'Courier New',monospace\"><span style=\"color: #800000\">^^^^ END napalm_ping ^^^^^^^^^^^^^^^^^^^^^^^^^^^^^^^^^^^^^^^^^^^^^^</span>\n</pre>\n"
     },
     "metadata": {}
    }
   ],
   "source": [
    "nr.data.reset_failed_hosts()\n",
    "\n",
    "result = vyos.run(\n",
    "    task=napalm_ping,\n",
    "    dest='192.168.99.1',\n",
    ")\n",
    "rr.print(result)"
   ]
  },
  {
   "cell_type": "markdown",
   "metadata": {},
   "source": []
  },
  {
   "cell_type": "markdown",
   "metadata": {},
   "source": [
    "After rebooting and failing the ping above, the get command is started with test_until and test_jsonpath.  test_jsonpath was set to fail the task so that test_until would continue to loop."
   ]
  },
  {
   "cell_type": "code",
   "execution_count": 32,
   "metadata": {
    "tags": []
   },
   "outputs": [
    {
     "output_type": "display_data",
     "data": {
      "text/plain": "<rich.jupyter.JupyterRenderable at 0x7f5b8e5c4340>",
      "text/html": "<pre style=\"white-space:pre;overflow-x:auto;line-height:normal;font-family:Menlo,'DejaVu Sans Mono',consolas,'Courier New',monospace\">napalm_get*********************************************************\n</pre>\n"
     },
     "metadata": {}
    },
    {
     "output_type": "display_data",
     "data": {
      "text/plain": "<rich.jupyter.JupyterRenderable at 0x7f5b8e01b2e0>",
      "text/html": "<pre style=\"white-space:pre;overflow-x:auto;line-height:normal;font-family:Menlo,'DejaVu Sans Mono',consolas,'Courier New',monospace\"><span style=\"color: #000080\">* vyos ** changed = </span><span style=\"color: #ff0000; font-style: italic\">False</span><span style=\"color: #000080\"> *****************************************</span>\n</pre>\n"
     },
     "metadata": {}
    },
    {
     "output_type": "display_data",
     "data": {
      "text/plain": "<rich.jupyter.JupyterRenderable at 0x7f5b8e01b670>",
      "text/html": "<pre style=\"white-space:pre;overflow-x:auto;line-height:normal;font-family:Menlo,'DejaVu Sans Mono',consolas,'Courier New',monospace\"><span style=\"color: #005f00\">vvvv napalm_get ** changed = False vvvvvvvvvvvvvvvvvvvvvvvvvvv INFO</span>\n</pre>\n"
     },
     "metadata": {}
    },
    {
     "output_type": "display_data",
     "data": {
      "text/plain": "<rich.jupyter.JupyterRenderable at 0x7f5b8e5c45b0>",
      "text/html": "<pre style=\"white-space:pre;overflow-x:auto;line-height:normal;font-family:Menlo,'DejaVu Sans Mono',consolas,'Courier New',monospace\">{\n    'interfaces': {\n        'eth0': {\n            'is_up': True,\n            'is_enabled': True,\n            'description': '',\n            'last_flapped': -1.0,\n            'mtu': -1,\n            'speed': 0,\n            'mac_address': '08:00:27:e0:28:63'\n        },\n        'lo': {\n            'is_up': True,\n            'is_enabled': True,\n            'description': '',\n            'last_flapped': -1.0,\n            'mtu': -1,\n            'speed': 0,\n            'mac_address': '00:00:00:00:00:00'\n        }\n    }\n}\n</pre>\n"
     },
     "metadata": {}
    },
    {
     "output_type": "display_data",
     "data": {
      "text/plain": "<rich.jupyter.JupyterRenderable at 0x7f5b8dfbe760>",
      "text/html": "<pre style=\"white-space:pre;overflow-x:auto;line-height:normal;font-family:Menlo,'DejaVu Sans Mono',consolas,'Courier New',monospace\"><span style=\"color: #005f00\">test_jsonpath</span><span style=\"color: #005f00; font-weight: bold\">(</span><span style=\"color: #808000; font-style: italic\">fail_task</span><span style=\"color: #005f00\">=</span><span style=\"color: #00ff00; font-style: italic\">True</span><span style=\"color: #005f00\">, </span><span style=\"color: #808000; font-style: italic\">passed</span><span style=\"color: #005f00\">=</span><span style=\"color: #00ff00; font-style: italic\">True</span><span style=\"color: #005f00\">, </span><span style=\"color: #808000; font-style: italic\">exception</span><span style=\"color: #005f00\">=</span><span style=\"color: #008000\">''</span><span style=\"color: #005f00\">, </span><span style=\"color: #808000; font-style: italic\">assertion</span><span style=\"color: #005f00\">=</span><span style=\"color: #008000\">'is_true'</span><span style=\"color: #005f00\">, </span><span style=\"color: #808000; font-style: italic\">value</span><span style=\"color: #005f00\">=</span><span style=\"color: #800080; font-style: italic\">None</span><span style=\"color: #005f00\">, </span>\n<span style=\"color: #808000; font-style: italic\">path</span><span style=\"color: #005f00\">=</span><span style=\"color: #008000\">'interfaces.eth0.is_up'</span><span style=\"color: #005f00\">, </span><span style=\"color: #808000; font-style: italic\">host_data</span><span style=\"color: #005f00\">=</span><span style=\"color: #008000\">''</span><span style=\"color: #005f00\">, </span><span style=\"color: #808000; font-style: italic\">one_of</span><span style=\"color: #005f00\">=</span><span style=\"color: #ff0000; font-style: italic\">False</span><span style=\"color: #005f00\">, </span><span style=\"color: #808000; font-style: italic\">result_attr</span><span style=\"color: #005f00\">=</span><span style=\"color: #008000\">'result'</span><span style=\"color: #005f00\">, </span>\n<span style=\"color: #808000; font-style: italic\">matches</span><span style=\"color: #005f00\">=</span><span style=\"color: #005f00; font-weight: bold\">[</span><span style=\"color: #008000\">'interfaces.eth0.is_up'</span><span style=\"color: #005f00; font-weight: bold\">])</span>\n</pre>\n"
     },
     "metadata": {}
    },
    {
     "output_type": "display_data",
     "data": {
      "text/plain": "<rich.jupyter.JupyterRenderable at 0x7f5b8e5c45b0>",
      "text/html": "<pre style=\"white-space:pre;overflow-x:auto;line-height:normal;font-family:Menlo,'DejaVu Sans Mono',consolas,'Courier New',monospace\"><span style=\"color: #005f00\">test_until</span><span style=\"color: #005f00; font-weight: bold\">(</span><span style=\"color: #808000; font-style: italic\">fail_task</span><span style=\"color: #005f00\">=</span><span style=\"color: #ff0000; font-style: italic\">False</span><span style=\"color: #005f00\">, </span><span style=\"color: #808000; font-style: italic\">passed</span><span style=\"color: #005f00\">=</span><span style=\"color: #00ff00; font-style: italic\">True</span><span style=\"color: #005f00\">, </span><span style=\"color: #808000; font-style: italic\">exception</span><span style=\"color: #005f00\">=</span><span style=\"color: #008000\">''</span><span style=\"color: #005f00\">, </span><span style=\"color: #808000; font-style: italic\">initial_delay</span><span style=\"color: #005f00\">=</span><span style=\"color: #000080; font-weight: bold\">15</span><span style=\"color: #005f00\">, </span><span style=\"color: #808000; font-style: italic\">retries</span><span style=\"color: #005f00\">=</span><span style=\"color: #000080; font-weight: bold\">10</span><span style=\"color: #005f00\">, </span>\n<span style=\"color: #808000; font-style: italic\">delay</span><span style=\"color: #005f00\">=</span><span style=\"color: #000080; font-weight: bold\">15</span><span style=\"color: #005f00\">, </span><span style=\"color: #808000; font-style: italic\">reset_conns</span><span style=\"color: #005f00\">=</span><span style=\"color: #00ff00; font-style: italic\">True</span><span style=\"color: #005f00\">, </span><span style=\"color: #808000; font-style: italic\">t0</span><span style=\"color: #005f00\">=</span><span style=\"color: #000080; font-weight: bold\">1599900118.5495498</span><span style=\"color: #005f00\">, </span><span style=\"color: #808000; font-style: italic\">t1</span><span style=\"color: #005f00\">=</span><span style=\"color: #000080; font-weight: bold\">1599900155.2910137</span><span style=\"color: #005f00\">, </span>\n<span style=\"color: #808000; font-style: italic\">run_time</span><span style=\"color: #005f00\">=</span><span style=\"color: #000080; font-weight: bold\">36.74146389961243</span><span style=\"color: #005f00; font-weight: bold\">)</span>\n</pre>\n"
     },
     "metadata": {}
    },
    {
     "output_type": "display_data",
     "data": {
      "text/plain": "<rich.jupyter.JupyterRenderable at 0x7f5b8dfbe760>",
      "text/html": "<pre style=\"white-space:pre;overflow-x:auto;line-height:normal;font-family:Menlo,'DejaVu Sans Mono',consolas,'Courier New',monospace\"><span style=\"color: #005f00\">^^^^ END napalm_get ^^^^^^^^^^^^^^^^^^^^^^^^^^^^^^^^^^^^^^^^^^^^^^^</span>\n</pre>\n"
     },
     "metadata": {}
    }
   ],
   "source": [
    "nr.data.reset_failed_hosts()\n",
    "result = vyos.run(\n",
    "    task=napalm_get,\n",
    "    getters=['interfaces'],\n",
    "    tests=[\n",
    "        test_jsonpath(path='interfaces.eth0.is_up', assertion='is_true', fail_task=True),\n",
    "        test_until(initial_delay=15, retries=10, delay=15, reset_conns=True),\n",
    "    ]\n",
    ")\n",
    "rr.print(result)"
   ]
  },
  {
   "cell_type": "markdown",
   "metadata": {},
   "source": [
    "Not bad.  The result above shows that it must have failed on its first try but by 36 seconds it was able to pass the test_jsonpath test and the call to napalm_get and so test_until finished up.\n",
    "\n",
    "This was pretty haphazard but other tutorials will go into more details about each of the tests."
   ]
  },
  {
   "cell_type": "markdown",
   "metadata": {},
   "source": [
    "Last thing."
   ]
  }
 ]
}