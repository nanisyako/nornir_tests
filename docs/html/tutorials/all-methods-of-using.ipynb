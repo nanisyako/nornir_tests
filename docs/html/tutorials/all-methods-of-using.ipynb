{
 "cells": [
  {
   "cell_type": "markdown",
   "metadata": {},
   "source": [
    "# All methods of using tests\n",
    "\n",
    "There are some things you can and some things you can't do with tests.  This tutorial will show all of them."
   ]
  },
  {
   "cell_type": "code",
   "execution_count": 25,
   "metadata": {},
   "outputs": [],
   "source": [
    "from nornir_tests.plugins.processors import TestsProcessor\n",
    "from nornir_tests.plugins.tests import *\n",
    "from nornir_napalm.plugins.tasks import napalm_get, napalm_ping\n",
    "from nornir_utils.plugins.functions import print_result\n",
    "from nornir import InitNornir\n",
    "\n",
    "nr = InitNornir(\n",
    "    inventory={\n",
    "        \"plugin\": \"SimpleInventory\",\n",
    "        \"options\": {\n",
    "            \"host_file\": \"data/hosts.yaml\",\n",
    "            \"group_file\": \"data/groups.yaml\",\n",
    "            \"defaults_file\": \"data/defaults.yaml\",\n",
    "        },\n",
    "    },\n",
    ")\n",
    "\n",
    "nr.processors.append(TestsProcessor())\n",
    "\n",
    "vyos = nr.filter(name=\"vyos\")"
   ]
  },
  {
   "cell_type": "markdown",
   "metadata": {},
   "source": [
    "## @ style decorator use\n",
    "\n",
    "This will only work as designed if not using task.run inside the function.  If there were a bunch of task.run statements in the function the decorators applied using @ syntax would not get applied."
   ]
  },
  {
   "cell_type": "code",
   "execution_count": 26,
   "metadata": {
    "tags": []
   },
   "outputs": [
    {
     "name": "stdout",
     "output_type": "stream",
     "text": [
      "\u001b[1m\u001b[36minner***************************************************************************\u001b[0m\n",
      "\u001b[0m\u001b[1m\u001b[34m* vyos ** changed : False ******************************************************\u001b[0m\n",
      "\u001b[0m\u001b[1m\u001b[32mvvvv inner ** changed : False vvvvvvvvvvvvvvvvvvvvvvvvvvvvvvvvvvvvvvvvvvvvvvvvvv INFO\u001b[0m\n",
      "\u001b[0m('jsonpath: interfaces.eth0.is_enabled expanded to interfaces.eth0.is_enabled '\n",
      " 'and value True found - PASSED')\n",
      "\"('timing: 0 < 2.02677583694458 < 5',) - PASSED\"\n",
      "'until: succeeded after 13.71741509437561 seconds - PASSED'\n",
      "\u001b[0m\n",
      "\u001b[0m\u001b[1m\u001b[32m^^^^ END inner ^^^^^^^^^^^^^^^^^^^^^^^^^^^^^^^^^^^^^^^^^^^^^^^^^^^^^^^^^^^^^^^^^\u001b[0m\n",
      "\u001b[0m"
     ]
    }
   ],
   "source": [
    "@test_until(retries=5, delay=5)\n",
    "@test_timing(max_run_time=5, fail_task=True)\n",
    "@test_jsonpath(path='interfaces.eth0.is_enabled', value=True, fail_task=True)\n",
    "def at_syntax_test(task):\n",
    "    return napalm_get(task, getters=['interfaces'])\n",
    "\n",
    "print_result(vyos.run(task=at_syntax_test), vars=['tests'])"
   ]
  },
  {
   "cell_type": "markdown",
   "metadata": {},
   "source": [
    "## Using nr.run with tasks that return results"
   ]
  },
  {
   "cell_type": "code",
   "execution_count": 27,
   "metadata": {
    "tags": []
   },
   "outputs": [
    {
     "name": "stdout",
     "output_type": "stream",
     "text": [
      "\u001b[1m\u001b[36mnapalm_get**********************************************************************\u001b[0m\n",
      "\u001b[0m\u001b[1m\u001b[34m* vyos ** changed : False ******************************************************\u001b[0m\n",
      "\u001b[0m\u001b[1m\u001b[32mvvvv napalm_get ** changed : False vvvvvvvvvvvvvvvvvvvvvvvvvvvvvvvvvvvvvvvvvvvvv INFO\u001b[0m\n",
      "\u001b[0m\"('timing: 0 < 2.010446071624756 < 9223372036854775807',) - PASSED\"\n",
      "('jsonpath: interfaces.eth0.is_up expanded to interfaces.eth0.is_up and value '\n",
      " 'True found - PASSED')\n",
      "\u001b[0m\n",
      "\u001b[0m\u001b[1m\u001b[32m^^^^ END napalm_get ^^^^^^^^^^^^^^^^^^^^^^^^^^^^^^^^^^^^^^^^^^^^^^^^^^^^^^^^^^^^\u001b[0m\n",
      "\u001b[0m"
     ]
    }
   ],
   "source": [
    "print_result(vyos.run(\n",
    "    task=napalm_get,\n",
    "    getters=['interfaces'],\n",
    "    tests=[\n",
    "        test_timing(),\n",
    "        test_jsonpath(path='interfaces.eth0.is_up', value=True)\n",
    "    ]\n",
    "), vars=['tests'])"
   ]
  },
  {
   "cell_type": "markdown",
   "metadata": {},
   "source": [
    "## Using task.run inside grouped task"
   ]
  },
  {
   "cell_type": "code",
   "execution_count": 28,
   "metadata": {
    "tags": []
   },
   "outputs": [
    {
     "name": "stdout",
     "output_type": "stream",
     "text": [
      "\u001b[1m\u001b[36mgrouped_task********************************************************************\u001b[0m\n",
      "\u001b[0m\u001b[1m\u001b[34m* vyos ** changed : False ******************************************************\u001b[0m\n",
      "\u001b[0m\u001b[1m\u001b[32mvvvv grouped_task ** changed : False vvvvvvvvvvvvvvvvvvvvvvvvvvvvvvvvvvvvvvvvvvv INFO\u001b[0m\n",
      "\u001b[0m\u001b[1m\u001b[32m---- napalm_ping ** changed : False -------------------------------------------- INFO\u001b[0m\n",
      "\u001b[0m\"('timing: 0 < 4.911297082901001 < 9223372036854775807',) - PASSED\"\n",
      "\u001b[0m\n",
      "\u001b[0m\u001b[1m\u001b[32m---- napalm_get ** changed : False --------------------------------------------- INFO\u001b[0m\n",
      "\u001b[0m('jsonpath: interfaces.eth0.is_up expanded to interfaces.eth0.is_up and value '\n",
      " 'True found - PASSED')\n",
      "\u001b[0m\n",
      "\u001b[0m\u001b[1m\u001b[32m^^^^ END grouped_task ^^^^^^^^^^^^^^^^^^^^^^^^^^^^^^^^^^^^^^^^^^^^^^^^^^^^^^^^^^\u001b[0m\n",
      "\u001b[0m"
     ]
    }
   ],
   "source": [
    "def grouped_task(task):\n",
    "    task.run(\n",
    "        napalm_ping,\n",
    "        dest='192.168.99.1',\n",
    "        tests=[\n",
    "            test_timing()\n",
    "        ]\n",
    "    )\n",
    "\n",
    "    task.run(\n",
    "        napalm_get, \n",
    "        getters=['interfaces'], \n",
    "        tests=[\n",
    "            test_jsonpath(path='interfaces.eth0.is_up', value=True)\n",
    "        ]\n",
    "    )\n",
    "\n",
    "print_result(vyos.run(task=grouped_task), vars=['tests'])"
   ]
  },
  {
   "cell_type": "markdown",
   "metadata": {},
   "source": [
    "## Not supported\n",
    "\n",
    "Testing a grouped_task at the level of running nr.run will not work.  There is not much you would be able to test without really complex logic anyhow considering this always returns an AggregatedResult."
   ]
  }
 ],
 "metadata": {
  "kernelspec": {
   "display_name": "Python 3.8.2 64-bit ('.venv': venv)",
   "name": "python38264bitvenvvenv1c35bb63d8ff4e6aa6d1792b190afa1b"
  },
  "language_info": {
   "codemirror_mode": {
    "name": "ipython",
    "version": 3
   },
   "file_extension": ".py",
   "mimetype": "text/x-python",
   "name": "python",
   "nbconvert_exporter": "python",
   "pygments_lexer": "ipython3",
   "version": "3.8.2-final"
  }
 },
 "nbformat": 4,
 "nbformat_minor": 2
}
