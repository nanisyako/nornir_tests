{
 "cells": [
  {
   "cell_type": "markdown",
   "metadata": {},
   "source": [
    "# All methods of using tests\n",
    "\n",
    "There are some things you can and some things you can't do with tests.  This tutorial will show all of them."
   ]
  },
  {
   "cell_type": "code",
   "execution_count": 1,
   "metadata": {},
   "outputs": [],
   "source": [
    "from nornir_tests.plugins.processors import TestsProcessor\n",
    "from nornir_tests.plugins.tests import *\n",
    "from nornir_napalm.plugins.tasks import napalm_get, napalm_ping\n",
    "from nornir_utils.plugins.functions import print_result\n",
    "from nornir import InitNornir\n",
    "\n",
    "nr = InitNornir(\n",
    "    inventory={\n",
    "        \"plugin\": \"SimpleInventory\",\n",
    "        \"options\": {\n",
    "            \"host_file\": \"data/hosts.yaml\",\n",
    "            \"group_file\": \"data/groups.yaml\",\n",
    "            \"defaults_file\": \"data/defaults.yaml\",\n",
    "        },\n",
    "    },\n",
    ")\n",
    "\n",
    "nr.processors.append(TestsProcessor())\n",
    "\n",
    "vyos = nr.filter(name=\"vyos\")"
   ]
  },
  {
   "cell_type": "markdown",
   "metadata": {},
   "source": [
    "## @ style decorator use\n",
    "\n",
    "This will only work as designed if not using task.run inside the function.  If there were a bunch of task.run statements in the function the decorators applied using @ syntax would not get applied."
   ]
  },
  {
   "cell_type": "code",
   "execution_count": 2,
   "metadata": {
    "tags": []
   },
   "outputs": [
    {
     "name": "stdout",
     "output_type": "stream",
     "text": [
      "\u001b[1m\u001b[36minner***************************************************************************\u001b[0m\n",
      "\u001b[0m\u001b[1m\u001b[34m* vyos ** changed : False ******************************************************\u001b[0m\n",
      "\u001b[0m\u001b[1m\u001b[32mvvvv inner ** changed : False vvvvvvvvvvvvvvvvvvvvvvvvvvvvvvvvvvvvvvvvvvvvvvvvvv INFO\u001b[0m\n",
      "\u001b[0mTestList(tests=[test_jsonpath(fail_task=True, passed=True, exception='', assertion='is_true', value=None, path='interfaces.eth0.is_enabled', host_data='', one_of=False, result_attr='result', matches=['interfaces.eth0.is_enabled', 'interfaces.eth0.is_enabled']), test_timing(fail_task=True, passed=False, exception=''), test_until(fail_task=False, passed=True, exception='', initial_delay=0, retries=5, delay=5, reset_conns=False, t0=1599842914.120058, t1=1599842927.6856458, run_time=13.565587759017944)])\u001b[0m\n",
      "\u001b[0m\u001b[1m\u001b[32m^^^^ END inner ^^^^^^^^^^^^^^^^^^^^^^^^^^^^^^^^^^^^^^^^^^^^^^^^^^^^^^^^^^^^^^^^^\u001b[0m\n",
      "\u001b[0m"
     ]
    }
   ],
   "source": [
    "@test_until(retries=5, delay=5)\n",
    "@test_timing(max_run_time=5, fail_task=True)\n",
    "@test_jsonpath(path='interfaces.eth0.is_enabled', assertion='is_true', fail_task=True)\n",
    "def at_syntax_test(task):\n",
    "    return napalm_get(task, getters=['interfaces'])\n",
    "\n",
    "print_result(vyos.run(task=at_syntax_test), vars=['tests'])"
   ]
  },
  {
   "cell_type": "markdown",
   "metadata": {},
   "source": [
    "## Using nr.run with tasks that return results"
   ]
  },
  {
   "cell_type": "code",
   "execution_count": 3,
   "metadata": {
    "tags": []
   },
   "outputs": [
    {
     "name": "stdout",
     "output_type": "stream",
     "text": [
      "\u001b[1m\u001b[36mnapalm_get**********************************************************************\u001b[0m\n",
      "\u001b[0m\u001b[1m\u001b[34m* vyos ** changed : False ******************************************************\u001b[0m\n",
      "\u001b[0m\u001b[1m\u001b[32mvvvv napalm_get ** changed : False vvvvvvvvvvvvvvvvvvvvvvvvvvvvvvvvvvvvvvvvvvvvv INFO\u001b[0m\n",
      "\u001b[0mTestList(tests=[test_timing(fail_task=False, passed=False, exception=''), test_jsonpath(fail_task=False, passed=True, exception='', assertion='is_true', value=None, path='interfaces.eth0.is_up', host_data='', one_of=False, result_attr='result', matches=['interfaces.eth0.is_up'])])\u001b[0m\n",
      "\u001b[0m\u001b[1m\u001b[32m^^^^ END napalm_get ^^^^^^^^^^^^^^^^^^^^^^^^^^^^^^^^^^^^^^^^^^^^^^^^^^^^^^^^^^^^\u001b[0m\n",
      "\u001b[0m"
     ]
    }
   ],
   "source": [
    "print_result(vyos.run(\n",
    "    task=napalm_get,\n",
    "    getters=['interfaces'],\n",
    "    tests=[\n",
    "        test_timing(),\n",
    "        test_jsonpath(path='interfaces.eth0.is_up', assertion='is_true')\n",
    "    ]\n",
    "), vars=['tests'])"
   ]
  },
  {
   "cell_type": "markdown",
   "metadata": {},
   "source": [
    "## Using task.run inside grouped task"
   ]
  },
  {
   "cell_type": "code",
   "execution_count": 4,
   "metadata": {
    "tags": []
   },
   "outputs": [
    {
     "name": "stdout",
     "output_type": "stream",
     "text": [
      "\u001b[1m\u001b[36mgrouped_task********************************************************************\u001b[0m\n",
      "\u001b[0m\u001b[1m\u001b[34m* vyos ** changed : False ******************************************************\u001b[0m\n",
      "\u001b[0m\u001b[1m\u001b[32mvvvv grouped_task ** changed : False vvvvvvvvvvvvvvvvvvvvvvvvvvvvvvvvvvvvvvvvvvv INFO\u001b[0m\n",
      "\u001b[0m\u001b[1m\u001b[32m---- napalm_ping ** changed : False -------------------------------------------- INFO\u001b[0m\n",
      "\u001b[0mTestList(tests=[test_timing(fail_task=False, passed=False, exception='')])\u001b[0m\n",
      "\u001b[0m\u001b[1m\u001b[32m---- napalm_get ** changed : False --------------------------------------------- INFO\u001b[0m\n",
      "\u001b[0mTestList(tests=[test_jsonpath(fail_task=False, passed=True, exception='', assertion='is_true', value=None, path='interfaces.eth0.is_up', host_data='', one_of=False, result_attr='result', matches=['interfaces.eth0.is_up'])])\u001b[0m\n",
      "\u001b[0m\u001b[1m\u001b[32m^^^^ END grouped_task ^^^^^^^^^^^^^^^^^^^^^^^^^^^^^^^^^^^^^^^^^^^^^^^^^^^^^^^^^^\u001b[0m\n",
      "\u001b[0m"
     ]
    }
   ],
   "source": [
    "def grouped_task(task):\n",
    "    task.run(\n",
    "        napalm_ping,\n",
    "        dest='192.168.99.1',\n",
    "        tests=[\n",
    "            test_timing()\n",
    "        ]\n",
    "    )\n",
    "\n",
    "    task.run(\n",
    "        napalm_get, \n",
    "        getters=['interfaces'], \n",
    "        tests=[\n",
    "            test_jsonpath(path='interfaces.eth0.is_up', assertion='is_true')\n",
    "        ]\n",
    "    )\n",
    "\n",
    "print_result(vyos.run(task=grouped_task), vars=['tests'])"
   ]
  },
  {
   "cell_type": "markdown",
   "metadata": {},
   "source": [
    "## Not supported\n",
    "\n",
    "Testing a grouped_task at the level of running nr.run will not work.  There is not much you would be able to test without really complex logic anyhow considering this always returns an AggregatedResult."
   ]
  }
 ],
 "metadata": {
  "kernelspec": {
   "display_name": "Python 3.8.2 64-bit ('.venv': venv)",
   "name": "python38264bitvenvvenv1c35bb63d8ff4e6aa6d1792b190afa1b"
  },
  "language_info": {
   "codemirror_mode": {
    "name": "ipython",
    "version": 3
   },
   "file_extension": ".py",
   "mimetype": "text/x-python",
   "name": "python",
   "nbconvert_exporter": "python",
   "pygments_lexer": "ipython3",
   "version": "3.8.2-final"
  }
 },
 "nbformat": 4,
 "nbformat_minor": 2
}
