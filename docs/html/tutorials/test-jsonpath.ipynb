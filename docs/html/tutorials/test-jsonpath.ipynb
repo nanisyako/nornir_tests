{
 "cells": [
  {
   "cell_type": "markdown",
   "metadata": {},
   "source": [
    "# test: test_jsonpath\n",
    "\n",
    "[test_jsonpath](../api/tasks.rst#nornir_tests.plugins.tests.test_jsonpath) uses jsonpath in conjunction with assertpy to validate task data.\n",
    "\n",
    "This module combines the power of jsonpath and assertpy.  In order to use this module it is somewhat necessary to be familiar with both of those.  Links to them can be found below.\n",
    "\n",
    "* `jsonpath_ng <https://github.com/h2non/jsonpath-ng>`\n",
    "* `assertpy <https://github.com/assertpy/assertpy>`\n",
    "\n",
    "\n",
    "Examples:"
   ]
  },
  {
   "cell_type": "code",
   "execution_count": 251,
   "metadata": {},
   "outputs": [],
   "source": [
    "from nornir import InitNornir\n",
    "from nornir_napalm.plugins.tasks import napalm_get, napalm_cli\n",
    "\n",
    "from nornir_tests.plugins.functions import print_result\n",
    "from nornir_tests.plugins.tasks import wrap_task\n",
    "from nornir_tests.plugins.tests import test_jsonpath\n",
    "\n",
    "nr = InitNornir(\n",
    "    inventory={\n",
    "        \"plugin\": \"SimpleInventory\",\n",
    "        \"options\": {\n",
    "            \"host_file\": \"inventory/hosts.yaml\",\n",
    "            \"group_file\": \"inventory/groups.yaml\",\n",
    "            \"defaults_file\": \"inventory/defaults.yaml\",\n",
    "        }\n",
    "    },\n",
    "    dry_run=True,\n",
    ")"
   ]
  },
  {
   "cell_type": "markdown",
   "metadata": {},
   "source": [
    "When running a task, validations usually if done in Nornir can be executed as additional logic implemented in python or with running of actual tasks.  Using `nornir_tests` moves the logic into the task and provides a way to impact the success of a task based on its validations."
   ]
  },
  {
   "cell_type": "code",
   "execution_count": 252,
   "metadata": {},
   "outputs": [],
   "source": [
    "results = nr.run(\n",
    "    wrap_task(napalm_get), getters=['facts'],\n",
    "    tests=[\n",
    "        test_jsonpath(path='$..os_version', value='4.14.3-2329074.gaatlantarel')\n",
    "    ]\n",
    ")"
   ]
  },
  {
   "cell_type": "code",
   "execution_count": 253,
   "metadata": {
    "tags": []
   },
   "outputs": [
    {
     "name": "stdout",
     "output_type": "stream",
     "text": [
      "\u001b[1m\u001b[36mnapalm_get**********************************************************************\u001b[0m\n",
      "\u001b[0m\u001b[1m\u001b[34m* rtr00 ** changed : False *****************************************************\u001b[0m\n",
      "\u001b[0m\u001b[1m\u001b[32mvvvv napalm_get ** changed : False vvvvvvvvvvvvvvvvvvvvvvvvvvvvvvvvvvvvvvvvvvvvv INFO\u001b[0m\n",
      "\u001b[0m\u001b[2m\u001b[32mP JsonPathRecord - {'assertion': 'is_equal_to',\n",
      " 'path': '$..os_version',\n",
      " 'result_attr': 'result',\n",
      " 'value': '4.14.3-2329074.gaatlantarel'}\u001b[0m\n",
      "\u001b[0m\u001b[2m\u001b[32m{'matches': ['facts.os_version']}\u001b[0m\n",
      "\u001b[0m\u001b[1m\u001b[32m^^^^ END napalm_get ^^^^^^^^^^^^^^^^^^^^^^^^^^^^^^^^^^^^^^^^^^^^^^^^^^^^^^^^^^^^\u001b[0m\n",
      "\u001b[0m\u001b[1m\u001b[34m* rtr01 ** changed : False *****************************************************\u001b[0m\n",
      "\u001b[0m\u001b[1m\u001b[32mvvvv napalm_get ** changed : False vvvvvvvvvvvvvvvvvvvvvvvvvvvvvvvvvvvvvvvvvvvvv INFO\u001b[0m\n",
      "\u001b[0m\u001b[2m\u001b[32mP JsonPathRecord - {'assertion': 'is_equal_to',\n",
      " 'path': '$..os_version',\n",
      " 'result_attr': 'result',\n",
      " 'value': '4.14.3-2329074.gaatlantarel'}\u001b[0m\n",
      "\u001b[0m\u001b[2m\u001b[32m{'matches': ['facts.os_version']}\u001b[0m\n",
      "\u001b[0m\u001b[1m\u001b[32m^^^^ END napalm_get ^^^^^^^^^^^^^^^^^^^^^^^^^^^^^^^^^^^^^^^^^^^^^^^^^^^^^^^^^^^^\u001b[0m\n",
      "\u001b[0m"
     ]
    }
   ],
   "source": [
    "print_result(results, vars=['tests'])"
   ]
  },
  {
   "cell_type": "markdown",
   "metadata": {},
   "source": [
    "The first example was pretty simple but the next will have many tests run in validating interface data.  It will also use @ decorator syntax."
   ]
  },
  {
   "cell_type": "code",
   "execution_count": 254,
   "metadata": {
    "tags": []
   },
   "outputs": [],
   "source": [
    "@test_jsonpath(path='$..ipv6', assertion='contains', value=\"1::1\")\n",
    "@test_jsonpath(path='$.interfaces_ip', assertion='is_length', value=3)\n",
    "@test_jsonpath(path='$..FastEthernet8..prefix_length', value=22)\n",
    "def get_interface_ips(task):\n",
    "    return napalm_get(task, getters=['interfaces_ip'])\n",
    "\n",
    "results = nr.run(get_interface_ips)"
   ]
  },
  {
   "cell_type": "code",
   "execution_count": 255,
   "metadata": {
    "tags": []
   },
   "outputs": [
    {
     "name": "stdout",
     "output_type": "stream",
     "text": [
      "\u001b[1m\u001b[36mget_interface_ips***************************************************************\u001b[0m\n",
      "\u001b[0m\u001b[1m\u001b[34m* rtr00 ** changed : False *****************************************************\u001b[0m\n",
      "\u001b[0m\u001b[1m\u001b[32mvvvv get_interface_ips ** changed : False vvvvvvvvvvvvvvvvvvvvvvvvvvvvvvvvvvvvvv INFO\u001b[0m\n",
      "\u001b[0m\u001b[2m\u001b[32mP JsonPathRecord - {'assertion': 'is_equal_to',\n",
      " 'path': '$..FastEthernet8..prefix_length',\n",
      " 'result_attr': 'result',\n",
      " 'value': 22}\u001b[0m\n",
      "\u001b[0m\u001b[2m\u001b[32m{'matches': ['interfaces_ip.FastEthernet8.ipv4.10.66.43.169.prefix_length']}\u001b[0m\n",
      "\u001b[0m\u001b[2m\u001b[32mP JsonPathRecord - {'assertion': 'is_length',\n",
      " 'path': '$.interfaces_ip',\n",
      " 'result_attr': 'result',\n",
      " 'value': 3}\u001b[0m\n",
      "\u001b[0m\u001b[2m\u001b[32m{'matches': ['interfaces_ip']}\u001b[0m\n",
      "\u001b[0m\u001b[2m\u001b[32mP JsonPathRecord - {'assertion': 'contains',\n",
      " 'path': '$..ipv6',\n",
      " 'result_attr': 'result',\n",
      " 'value': '1::1'}\u001b[0m\n",
      "\u001b[0m\u001b[2m\u001b[32m{'matches': ['interfaces_ip.Loopback555.ipv6']}\u001b[0m\n",
      "\u001b[0m\u001b[1m\u001b[32m^^^^ END get_interface_ips ^^^^^^^^^^^^^^^^^^^^^^^^^^^^^^^^^^^^^^^^^^^^^^^^^^^^^\u001b[0m\n",
      "\u001b[0m\u001b[1m\u001b[34m* rtr01 ** changed : False *****************************************************\u001b[0m\n",
      "\u001b[0m\u001b[1m\u001b[32mvvvv get_interface_ips ** changed : False vvvvvvvvvvvvvvvvvvvvvvvvvvvvvvvvvvvvvv INFO\u001b[0m\n",
      "\u001b[0m\u001b[2m\u001b[32mP JsonPathRecord - {'assertion': 'is_equal_to',\n",
      " 'path': '$..FastEthernet8..prefix_length',\n",
      " 'result_attr': 'result',\n",
      " 'value': 22}\u001b[0m\n",
      "\u001b[0m\u001b[2m\u001b[32m{'matches': ['interfaces_ip.FastEthernet8.ipv4.10.66.43.170.prefix_length']}\u001b[0m\n",
      "\u001b[0m\u001b[2m\u001b[32mP JsonPathRecord - {'assertion': 'is_length',\n",
      " 'path': '$.interfaces_ip',\n",
      " 'result_attr': 'result',\n",
      " 'value': 3}\u001b[0m\n",
      "\u001b[0m\u001b[2m\u001b[32m{'matches': ['interfaces_ip']}\u001b[0m\n",
      "\u001b[0m\u001b[2m\u001b[31mF JsonPathRecord - {'assertion': 'contains',\n",
      " 'path': '$..ipv6',\n",
      " 'result_attr': 'result',\n",
      " 'value': '1::1'}\u001b[0m\n",
      "\u001b[0m\u001b[2m\u001b[31m{'exception': Exception(AssertionError(\"Expected <{'1::2': {'prefix_length': 64}, '2001:DB8:1::2': {'prefix_length': 64}, '2::99': {'prefix_length': 64}, 'FE80::5': {'prefix_length': 'N/A'}}> to contain key <1::1>, but did not.\"))}\u001b[0m\n",
      "\u001b[0m\u001b[1m\u001b[32m^^^^ END get_interface_ips ^^^^^^^^^^^^^^^^^^^^^^^^^^^^^^^^^^^^^^^^^^^^^^^^^^^^^\u001b[0m\n",
      "\u001b[0m"
     ]
    }
   ],
   "source": [
    "print_result(results, vars=['tests'])"
   ]
  },
  {
   "cell_type": "markdown",
   "metadata": {},
   "source": [
    "The next example will show how a task can be set to failed based on the validation that is performed.  If the task has fail_task set to true and ends up with passed=False in the test it will mark the overall task as failed."
   ]
  },
  {
   "cell_type": "code",
   "execution_count": 256,
   "metadata": {
    "tags": []
   },
   "outputs": [
    {
     "name": "stdout",
     "output_type": "stream",
     "text": [
      "\u001b[1m\u001b[36mcheck_bgp_neighbors*************************************************************\u001b[0m\n",
      "\u001b[0m\u001b[1m\u001b[34m* rtr00 ** changed : False *****************************************************\u001b[0m\n",
      "\u001b[0m\u001b[1m\u001b[32mvvvv check_bgp_neighbors ** changed : False vvvvvvvvvvvvvvvvvvvvvvvvvvvvvvvvvvvv INFO\u001b[0m\n",
      "\u001b[0m\u001b[2m\u001b[32mP JsonPathRecord - {'assertion': 'is_equal_to',\n",
      " 'fail_task': True,\n",
      " 'path': '$..connection_state',\n",
      " 'result_attr': 'result',\n",
      " 'value': 'Established'}\u001b[0m\n",
      "\u001b[0m\u001b[2m\u001b[32m{'matches': ['bgp_neighbors_detail.global.8121.[0].connection_state']}\u001b[0m\n",
      "\u001b[0m\u001b[1m\u001b[32m^^^^ END check_bgp_neighbors ^^^^^^^^^^^^^^^^^^^^^^^^^^^^^^^^^^^^^^^^^^^^^^^^^^^\u001b[0m\n",
      "\u001b[0m\u001b[1m\u001b[34m* rtr01 ** changed : False *****************************************************\u001b[0m\n",
      "\u001b[0m\u001b[1m\u001b[31mvvvv check_bgp_neighbors ** changed : False vvvvvvvvvvvvvvvvvvvvvvvvvvvvvvvvvvvv ERROR\u001b[0m\n",
      "\u001b[0m\u001b[2m\u001b[31mF JsonPathRecord - {'assertion': 'is_equal_to',\n",
      " 'fail_task': True,\n",
      " 'path': '$..connection_state',\n",
      " 'result_attr': 'result',\n",
      " 'value': 'Established'}\u001b[0m\n",
      "\u001b[0m\u001b[2m\u001b[31m{'exception': Exception(AssertionError('Expected <EstabSync> to be equal to <Established>, but was not.'))}\u001b[0m\n",
      "\u001b[0m\u001b[1m\u001b[31m^^^^ END check_bgp_neighbors ^^^^^^^^^^^^^^^^^^^^^^^^^^^^^^^^^^^^^^^^^^^^^^^^^^^\u001b[0m\n",
      "\u001b[0m"
     ]
    }
   ],
   "source": [
    "@test_jsonpath(path='$..connection_state', value=\"Established\", fail_task=True)\n",
    "def check_bgp_neighbors(task):\n",
    "    return napalm_get(task, getters=['bgp_neighbors_detail'])\n",
    "\n",
    "results = nr.run(check_bgp_neighbors)\n",
    "print_result(results, vars=['tests'])"
   ]
  },
  {
   "cell_type": "markdown",
   "metadata": {},
   "source": [
    "The last example will use host_data in order to find some data specific to the host to validate against.  The host_data is anything from inventory perhaps obviously in the data dictionary."
   ]
  },
  {
   "cell_type": "code",
   "execution_count": 257,
   "metadata": {
    "tags": []
   },
   "outputs": [
    {
     "name": "stdout",
     "output_type": "stream",
     "text": [
      "\u001b[1m\u001b[36mnapalm_get**********************************************************************\u001b[0m\n",
      "\u001b[0m\u001b[1m\u001b[34m* rtr00 ** changed : False *****************************************************\u001b[0m\n",
      "\u001b[0m\u001b[1m\u001b[32mvvvv napalm_get ** changed : False vvvvvvvvvvvvvvvvvvvvvvvvvvvvvvvvvvvvvvvvvvvvv INFO\u001b[0m\n",
      "\u001b[0m\u001b[2m\u001b[32mP JsonPathRecord - {'assertion': 'contains',\n",
      " 'host_data': '$.mgmt_port',\n",
      " 'path': '$.interfaces',\n",
      " 'result_attr': 'result',\n",
      " 'value': 'Management1'}\u001b[0m\n",
      "\u001b[0m\u001b[2m\u001b[32m{'matches': ['interfaces']}\u001b[0m\n",
      "\u001b[0m\u001b[1m\u001b[32m^^^^ END napalm_get ^^^^^^^^^^^^^^^^^^^^^^^^^^^^^^^^^^^^^^^^^^^^^^^^^^^^^^^^^^^^\u001b[0m\n",
      "\u001b[0m\u001b[1m\u001b[34m* rtr01 ** changed : False *****************************************************\u001b[0m\n",
      "\u001b[0m\u001b[1m\u001b[32mvvvv napalm_get ** changed : False vvvvvvvvvvvvvvvvvvvvvvvvvvvvvvvvvvvvvvvvvvvvv INFO\u001b[0m\n",
      "\u001b[0m\u001b[2m\u001b[32mP JsonPathRecord - {'assertion': 'contains',\n",
      " 'host_data': '$.mgmt_port',\n",
      " 'path': '$.interfaces',\n",
      " 'result_attr': 'result',\n",
      " 'value': 'Management2'}\u001b[0m\n",
      "\u001b[0m\u001b[2m\u001b[32m{'matches': ['interfaces']}\u001b[0m\n",
      "\u001b[0m\u001b[1m\u001b[32m^^^^ END napalm_get ^^^^^^^^^^^^^^^^^^^^^^^^^^^^^^^^^^^^^^^^^^^^^^^^^^^^^^^^^^^^\u001b[0m\n",
      "\u001b[0m"
     ]
    }
   ],
   "source": [
    "nr.data.reset_failed_hosts()\n",
    "\n",
    "results = nr.run(\n",
    "    wrap_task(napalm_get), getters=['interfaces'],\n",
    "    tests=[\n",
    "        test_jsonpath(path='$.interfaces', assertion='contains', host_data='$.mgmt_port')\n",
    "    ]\n",
    ")\n",
    "print_result(results, vars=['tests'])"
   ]
  },
  {
   "cell_type": "markdown",
   "metadata": {},
   "source": [
    "In these examples 'contains', 'is_equal', and 'is_length' were used for assertions.  Many other possibilities are available from the assertpy module.  Not saying all of them make sense to use or that they all work as expected but they should.  Too many to validate to be honest.  Some other that would certainly work fine would be 'is_true', 'is_empty', etc."
   ]
  },
  {
   "cell_type": "markdown",
   "metadata": {},
   "source": [
    "A few more things about how it all works.  The one_of argument isn't always needed but it could be.  If the match was intended to turn up many of something and something like is_equal assertion is used, if one_of is not true then it will fail if all matches don't meet the assertion.  This is kind of confusing and I should prob show an example here."
   ]
  },
  {
   "cell_type": "code",
   "execution_count": 258,
   "metadata": {
    "tags": []
   },
   "outputs": [
    {
     "name": "stdout",
     "output_type": "stream",
     "text": [
      "\u001b[1m\u001b[36mget_interface_ips***************************************************************\u001b[0m\n",
      "\u001b[0m\u001b[1m\u001b[34m* rtr00 ** changed : False *****************************************************\u001b[0m\n",
      "\u001b[0m\u001b[1m\u001b[32mvvvv get_interface_ips ** changed : False vvvvvvvvvvvvvvvvvvvvvvvvvvvvvvvvvvvvvv INFO\u001b[0m\n",
      "\u001b[0m\u001b[2m\u001b[32mP JsonPathRecord - {'assertion': 'contains',\n",
      " 'one_of': True,\n",
      " 'path': '$..ipv4',\n",
      " 'result_attr': 'result',\n",
      " 'value': '10.66.43.169'}\u001b[0m\n",
      "\u001b[0m\u001b[2m\u001b[32m{'matches': ['interfaces_ip.FastEthernet8.ipv4']}\u001b[0m\n",
      "\u001b[0m\u001b[2m\u001b[31mF JsonPathRecord - {'assertion': 'contains',\n",
      " 'path': '$..ipv4',\n",
      " 'result_attr': 'result',\n",
      " 'value': '10.66.43.169'}\u001b[0m\n",
      "\u001b[0m\u001b[2m\u001b[31m{'exception': Exception(AssertionError(\"Expected <{'192.168.1.1': {'prefix_length': 24}}> to contain key <10.66.43.169>, but did not.\")),\n",
      " 'matches': ['interfaces_ip.FastEthernet8.ipv4']}\u001b[0m\n",
      "\u001b[0m\u001b[1m\u001b[32m^^^^ END get_interface_ips ^^^^^^^^^^^^^^^^^^^^^^^^^^^^^^^^^^^^^^^^^^^^^^^^^^^^^\u001b[0m\n",
      "\u001b[0m"
     ]
    }
   ],
   "source": [
    "@test_jsonpath(path='$..ipv4', assertion='contains', value=\"10.66.43.169\")\n",
    "@test_jsonpath(path='$..ipv4', assertion='contains', value=\"10.66.43.169\", one_of=True)\n",
    "def get_interface_ips(task):\n",
    "    return napalm_get(task, getters=['interfaces_ip'])\n",
    "\n",
    "rtr00 = nr.filter(name='rtr00')\n",
    "results = rtr00.run(get_interface_ips)\n",
    "print_result(results, vars=['tests'])"
   ]
  },
  {
   "cell_type": "markdown",
   "metadata": {},
   "source": [
    "So what happened is the first test passed as it found a bunch of paths that ended with 'ipv4' and it only needed one of them to contain the value of \"10.66.43.169\".  The second one failed due to the fact that it wanted all the paths to contain that value and they did not."
   ]
  }
 ],
 "metadata": {
  "kernelspec": {
   "display_name": "Python 3.8.2 64-bit ('.venv': venv)",
   "language": "python",
   "name": "python38264bitvenvvenv1c35bb63d8ff4e6aa6d1792b190afa1b"
  },
  "language_info": {
   "codemirror_mode": {
    "name": "ipython",
    "version": 3
   },
   "file_extension": ".py",
   "mimetype": "text/x-python",
   "name": "python",
   "nbconvert_exporter": "python",
   "pygments_lexer": "ipython3",
   "version": "3.8.2-final"
  }
 },
 "nbformat": 4,
 "nbformat_minor": 4
}
