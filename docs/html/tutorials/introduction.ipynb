{
 "cells": [
  {
   "cell_type": "markdown",
   "metadata": {},
   "source": [
    "# Introduction\n",
    "\n",
    "The idea behind nornir_tests is to allow for adding tests against the task run and its results.  Many times, a task can run and get some output but that doesn't mean it is successful.  One option is to add additional checks or tasks with some conditional logic to deal with this.  Another is to add tests against the data returned from a task.  That is what nornir_tests is for.\n",
    "\n",
    "The question is probably why use tests.  Tests were inspired by the same feature in postman.  In postman, a test was something that was done against the data returned from a postman request to determine if the request was actually successful.  This can certainly be added in python using either pure python or additional tasks but there is some elegance and some additional functionality obtained by using tests tied to tasks.  In this intro, I will try to touch on a variety of ideas using tests.  In further tutorials I'll go into more detail on using each of the test types."
   ]
  },
  {
   "cell_type": "markdown",
   "metadata": {},
   "source": [
    "## Nornir initialization\n",
    "\n",
    "This is standard nornir initialization and imports of tasks.  A different library nornir_rich is used for output to provide more detail and highlighting.  Using print_result is also possible if vars is set to include 'tests' attribute."
   ]
  },
  {
   "cell_type": "code",
   "execution_count": 1,
   "metadata": {},
   "outputs": [],
   "source": [
    "from nornir_napalm.plugins.tasks import napalm_get, napalm_ping\n",
    "from nornir_netmiko.tasks import netmiko_send_command\n",
    "from nornir_rich.plugins.functions import RichResults\n",
    "from nornir import InitNornir\n",
    "\n",
    "nr = InitNornir(\n",
    "    inventory={\n",
    "        \"plugin\": \"SimpleInventory\",\n",
    "        \"options\": {\n",
    "            \"host_file\": \"data/hosts.yaml\",\n",
    "            \"group_file\": \"data/groups.yaml\",\n",
    "            \"defaults_file\": \"data/defaults.yaml\",\n",
    "        },\n",
    "    },\n",
    ")\n",
    "\n",
    "rr = RichResults()"
   ]
  },
  {
   "cell_type": "markdown",
   "metadata": {},
   "source": [
    "## Setup of nornir_rich\n",
    "\n",
    "TestsProcessor is appended to the processors list and the inventory is shown. This can be done using config.yaml as well or a few other ways that are covered in the Nornir documentation."
   ]
  },
  {
   "cell_type": "code",
   "execution_count": 2,
   "metadata": {
    "tags": []
   },
   "outputs": [],
   "source": [
    "from nornir_tests.plugins.tests import test_regexp, test_until, test_timing, test_jsonpath\n",
    "from nornir_tests.plugins.processors import TestsProcessor\n",
    "nr.processors.append(TestsProcessor())"
   ]
  },
  {
   "cell_type": "markdown",
   "metadata": {},
   "source": [
    "## Run task and include jsonpath assertion\n",
    "\n",
    "In the first example, a vyos router interface facts are obtained using napalm and a test is run to validate the result."
   ]
  },
  {
   "cell_type": "code",
   "execution_count": 4,
   "metadata": {
    "tags": []
   },
   "outputs": [
    {
     "data": {
      "text/html": [
       "<pre style=\"white-space:pre;overflow-x:auto;line-height:normal;font-family:Menlo,'DejaVu Sans Mono',consolas,'Courier New',monospace\"><span style=\"color: #000000; text-decoration: underline\">napalm_get </span><span style=\"color: #000000; font-weight: bold; text-decoration: underline\">(</span><span style=\"color: #000000; text-decoration: underline\">hosts: </span><span style=\"color: #000080; font-weight: bold; text-decoration: underline\">1</span><span style=\"color: #000000; font-weight: bold; text-decoration: underline\">)</span>\n",
       "</pre>\n"
      ],
      "text/plain": [
       "<rich.jupyter.JupyterRenderable at 0x7f80d875ac70>"
      ]
     },
     "metadata": {},
     "output_type": "display_data"
    },
    {
     "data": {
      "text/html": [
       "<pre style=\"white-space:pre;overflow-x:auto;line-height:normal;font-family:Menlo,'DejaVu Sans Mono',consolas,'Courier New',monospace\"><span style=\"color: #000080\">* vyos </span>\n",
       "</pre>\n"
      ],
      "text/plain": [
       "<rich.jupyter.JupyterRenderable at 0x7f80d875ac70>"
      ]
     },
     "metadata": {},
     "output_type": "display_data"
    },
    {
     "data": {
      "text/html": [
       "<pre style=\"white-space:pre;overflow-x:auto;line-height:normal;font-family:Menlo,'DejaVu Sans Mono',consolas,'Courier New',monospace\">  ╭─ napalm_get  ───────────────────────────────────────────────────────────────────────────╮\n",
       "  │    result = <span style=\"font-weight: bold\">{</span>                                                                           │\n",
       "  │                 <span style=\"color: #008000\">'interfaces'</span>: <span style=\"font-weight: bold\">{</span>                                                         │\n",
       "  │                     <span style=\"color: #008000\">'eth0'</span>: <span style=\"font-weight: bold\">{</span>                                                           │\n",
       "  │                         <span style=\"color: #008000\">'is_up'</span>: <span style=\"color: #00ff00; font-style: italic\">True</span>,                                                  │\n",
       "  │                         <span style=\"color: #008000\">'is_enabled'</span>: <span style=\"color: #00ff00; font-style: italic\">True</span>,                                             │\n",
       "  │                         <span style=\"color: #008000\">'description'</span>: <span style=\"color: #008000\">''</span>,                                              │\n",
       "  │                         <span style=\"color: #008000\">'last_flapped'</span>: <span style=\"color: #000080; font-weight: bold\">-1.0</span>,                                           │\n",
       "  │                         <span style=\"color: #008000\">'mtu'</span>: <span style=\"color: #000080; font-weight: bold\">-1</span>,                                                      │\n",
       "  │                         <span style=\"color: #008000\">'speed'</span>: <span style=\"color: #000080; font-weight: bold\">0</span>,                                                     │\n",
       "  │                         <span style=\"color: #008000\">'mac_address'</span>: <span style=\"color: #008000\">'08:00:27:e0:28:63'</span>                              │\n",
       "  │                     <span style=\"font-weight: bold\">}</span>,                                                                  │\n",
       "  │                     <span style=\"color: #008000\">'lo'</span>: <span style=\"font-weight: bold\">{</span>                                                             │\n",
       "  │                         <span style=\"color: #008000\">'is_up'</span>: <span style=\"color: #00ff00; font-style: italic\">True</span>,                                                  │\n",
       "  │                         <span style=\"color: #008000\">'is_enabled'</span>: <span style=\"color: #00ff00; font-style: italic\">True</span>,                                             │\n",
       "  │                         <span style=\"color: #008000\">'description'</span>: <span style=\"color: #008000\">''</span>,                                              │\n",
       "  │                         <span style=\"color: #008000\">'last_flapped'</span>: <span style=\"color: #000080; font-weight: bold\">-1.0</span>,                                           │\n",
       "  │                         <span style=\"color: #008000\">'mtu'</span>: <span style=\"color: #000080; font-weight: bold\">-1</span>,                                                      │\n",
       "  │                         <span style=\"color: #008000\">'speed'</span>: <span style=\"color: #000080; font-weight: bold\">0</span>,                                                     │\n",
       "  │                         <span style=\"color: #008000\">'mac_address'</span>: <span style=\"color: #008000\">'00:00:00:00:00:00'</span>                              │\n",
       "  │                     <span style=\"font-weight: bold\">}</span>                                                                   │\n",
       "  │                 <span style=\"font-weight: bold\">}</span>                                                                       │\n",
       "  │             <span style=\"font-weight: bold\">}</span>                                                                           │\n",
       "  │    tests 🟢 test_jsonpath<span style=\"font-weight: bold\">(</span><span style=\"color: #808000; font-style: italic\">exception</span>=<span style=\"color: #800080; font-style: italic\">None</span>, <span style=\"color: #808000; font-style: italic\">fail_task</span>=<span style=\"color: #ff0000; font-style: italic\">False</span>, <span style=\"color: #808000; font-style: italic\">passed</span>=<span style=\"color: #00ff00; font-style: italic\">True</span>,                 │\n",
       "  │             <span style=\"color: #808000; font-style: italic\">assertion</span>=<span style=\"color: #008000\">'is_true'</span>, <span style=\"color: #808000; font-style: italic\">value</span>=<span style=\"color: #800080; font-style: italic\">None</span>, <span style=\"color: #808000; font-style: italic\">path</span>=<span style=\"color: #008000\">'interfaces.eth0.is_up'</span>, <span style=\"color: #808000; font-style: italic\">host_data</span>=<span style=\"color: #008000\">''</span>,│\n",
       "  │             <span style=\"color: #808000; font-style: italic\">one_of</span>=<span style=\"color: #ff0000; font-style: italic\">False</span>, <span style=\"color: #808000; font-style: italic\">result_attr</span>=<span style=\"color: #008000\">'result'</span>, <span style=\"color: #808000; font-style: italic\">matches</span>=<span style=\"font-weight: bold\">[</span><span style=\"color: #008000\">'interfaces.eth0.is_up'</span><span style=\"font-weight: bold\">])</span>      │\n",
       "  ╰─────────────────────────────────────────────────────────────────────────────────────────╯\n",
       "</pre>\n"
      ],
      "text/plain": [
       "<rich.jupyter.JupyterRenderable at 0x7f80d874b370>"
      ]
     },
     "metadata": {},
     "output_type": "display_data"
    },
    {
     "data": {
      "text/html": [
       "<pre style=\"white-space:pre;overflow-x:auto;line-height:normal;font-family:Menlo,'DejaVu Sans Mono',consolas,'Courier New',monospace\">\n",
       "</pre>\n"
      ],
      "text/plain": [
       "<rich.jupyter.JupyterRenderable at 0x7f80d875ad60>"
      ]
     },
     "metadata": {},
     "output_type": "display_data"
    }
   ],
   "source": [
    "vyos = nr.filter(name='vyos')\n",
    "\n",
    "result = vyos.run(\n",
    "    task=napalm_get,\n",
    "    getters=['interfaces'],\n",
    "    tests=[\n",
    "        test_jsonpath(path='interfaces.eth0.is_up', assertion='is_true'),\n",
    "    ]\n",
    ")\n",
    "\n",
    "rr.print(result, vars=['result', 'tests'])"
   ]
  },
  {
   "cell_type": "markdown",
   "metadata": {},
   "source": [
    "## Run ping with timing requirements\n",
    "\n",
    "Next a ping is sent to the vyos device using the timing test.  As can be seen in the output, this gives runtime of the task and can be enhanced with min_run_time and max_run_time to affect the task result if the fail_task argument is used.  If a failure occurs in the test and fail_task is set to True, then the task will be marked as failed."
   ]
  },
  {
   "cell_type": "code",
   "execution_count": 6,
   "metadata": {
    "tags": []
   },
   "outputs": [
    {
     "data": {
      "text/html": [
       "<pre style=\"white-space:pre;overflow-x:auto;line-height:normal;font-family:Menlo,'DejaVu Sans Mono',consolas,'Courier New',monospace\"><span style=\"color: #000000; text-decoration: underline\">napalm_ping </span><span style=\"color: #000000; font-weight: bold; text-decoration: underline\">(</span><span style=\"color: #000000; text-decoration: underline\">hosts: </span><span style=\"color: #000080; font-weight: bold; text-decoration: underline\">1</span><span style=\"color: #000000; font-weight: bold; text-decoration: underline\">)</span>\n",
       "</pre>\n"
      ],
      "text/plain": [
       "<rich.jupyter.JupyterRenderable at 0x7f80d874b1c0>"
      ]
     },
     "metadata": {},
     "output_type": "display_data"
    },
    {
     "data": {
      "text/html": [
       "<pre style=\"white-space:pre;overflow-x:auto;line-height:normal;font-family:Menlo,'DejaVu Sans Mono',consolas,'Courier New',monospace\"><span style=\"color: #000080\">* vyos </span>\n",
       "</pre>\n"
      ],
      "text/plain": [
       "<rich.jupyter.JupyterRenderable at 0x7f80d874b100>"
      ]
     },
     "metadata": {},
     "output_type": "display_data"
    },
    {
     "data": {
      "text/html": [
       "<pre style=\"white-space:pre;overflow-x:auto;line-height:normal;font-family:Menlo,'DejaVu Sans Mono',consolas,'Courier New',monospace\">  ╭─ napalm_ping  ──────────────────────────────────────────────────────────────────────────╮\n",
       "  │    result = <span style=\"font-weight: bold\">{</span>                                                                           │\n",
       "  │                 <span style=\"color: #008000\">'success'</span>: <span style=\"font-weight: bold\">{</span>                                                            │\n",
       "  │                     <span style=\"color: #008000\">'probes_sent'</span>: <span style=\"color: #000080; font-weight: bold\">5</span>,                                                   │\n",
       "  │                     <span style=\"color: #008000\">'packet_loss'</span>: <span style=\"color: #000080; font-weight: bold\">0</span>,                                                   │\n",
       "  │                     <span style=\"color: #008000\">'rtt_min'</span>: <span style=\"color: #000080; font-weight: bold\">3.023</span>,                                                   │\n",
       "  │                     <span style=\"color: #008000\">'rtt_max'</span>: <span style=\"color: #000080; font-weight: bold\">3.692</span>,                                                   │\n",
       "  │                     <span style=\"color: #008000\">'rtt_avg'</span>: <span style=\"color: #000080; font-weight: bold\">3.332</span>,                                                   │\n",
       "  │                     <span style=\"color: #008000\">'rtt_stddev'</span>: <span style=\"color: #000080; font-weight: bold\">0.292</span>,                                                │\n",
       "  │                     <span style=\"color: #008000\">'results'</span>: <span style=\"font-weight: bold\">[{</span><span style=\"color: #008000\">'ip_address'</span>: <span style=\"color: #008000\">'192.168.99.1'</span>, <span style=\"color: #008000\">'rtt'</span>: <span style=\"color: #000080; font-weight: bold\">3.332</span><span style=\"font-weight: bold\">}]</span>           │\n",
       "  │                 <span style=\"font-weight: bold\">}</span>                                                                       │\n",
       "  │             <span style=\"font-weight: bold\">}</span>                                                                           │\n",
       "  │    tests 🟢 test_timing<span style=\"font-weight: bold\">(</span><span style=\"color: #808000; font-style: italic\">exception</span>=<span style=\"color: #800080; font-style: italic\">None</span>, <span style=\"color: #808000; font-style: italic\">fail_task</span>=<span style=\"color: #ff0000; font-style: italic\">False</span>, <span style=\"color: #808000; font-style: italic\">passed</span>=<span style=\"color: #00ff00; font-style: italic\">True</span>, <span style=\"color: #808000; font-style: italic\">min_run_time</span>=<span style=\"color: #000080; font-weight: bold\">0</span>,   │\n",
       "  │             <span style=\"color: #808000; font-style: italic\">max_run_time</span>=<span style=\"color: #000080; font-weight: bold\">9223372036854775807</span>, <span style=\"color: #808000; font-style: italic\">t0</span>=<span style=\"color: #000080; font-weight: bold\">1600058166.4666054</span>,                    │\n",
       "  │             <span style=\"color: #808000; font-style: italic\">t1</span>=<span style=\"color: #000080; font-weight: bold\">1600058171.3822486</span>, <span style=\"color: #808000; font-style: italic\">run_time</span>=<span style=\"color: #000080; font-weight: bold\">-1</span><span style=\"font-weight: bold\">)</span>                                         │\n",
       "  ╰─────────────────────────────────────────────────────────────────────────────────────────╯\n",
       "</pre>\n"
      ],
      "text/plain": [
       "<rich.jupyter.JupyterRenderable at 0x7f80f0dd0250>"
      ]
     },
     "metadata": {},
     "output_type": "display_data"
    },
    {
     "data": {
      "text/html": [
       "<pre style=\"white-space:pre;overflow-x:auto;line-height:normal;font-family:Menlo,'DejaVu Sans Mono',consolas,'Courier New',monospace\">\n",
       "</pre>\n"
      ],
      "text/plain": [
       "<rich.jupyter.JupyterRenderable at 0x7f80d874b6d0>"
      ]
     },
     "metadata": {},
     "output_type": "display_data"
    }
   ],
   "source": [
    "result = vyos.run(\n",
    "    task=napalm_ping,\n",
    "    dest='192.168.99.1',\n",
    "    tests=[\n",
    "        test_timing(),\n",
    "    ]\n",
    ")\n",
    "rr.print(result, vars=['result', 'tests'])"
   ]
  },
  {
   "cell_type": "markdown",
   "metadata": {},
   "source": [
    "## Get unfailed task to fail due to assertion\n",
    "\n",
    "The next example shows how the result failed state can be affected by a test."
   ]
  },
  {
   "cell_type": "code",
   "execution_count": 7,
   "metadata": {
    "tags": []
   },
   "outputs": [
    {
     "data": {
      "text/html": [
       "<pre style=\"white-space:pre;overflow-x:auto;line-height:normal;font-family:Menlo,'DejaVu Sans Mono',consolas,'Courier New',monospace\"><span style=\"color: #000000; text-decoration: underline\">napalm_ping </span><span style=\"color: #000000; font-weight: bold; text-decoration: underline\">(</span><span style=\"color: #000000; text-decoration: underline\">hosts: </span><span style=\"color: #000080; font-weight: bold; text-decoration: underline\">1</span><span style=\"color: #000000; text-decoration: underline\">, failed: </span><span style=\"color: #00ff00; font-style: italic; text-decoration: underline\">True</span><span style=\"color: #000000; text-decoration: underline\">, failed_hosts: </span><span style=\"color: #000000; font-weight: bold; text-decoration: underline\">[</span><span style=\"color: #008000; text-decoration: underline\">'vyos'</span><span style=\"color: #000000; font-weight: bold; text-decoration: underline\">])</span>\n",
       "</pre>\n"
      ],
      "text/plain": [
       "<rich.jupyter.JupyterRenderable at 0x7f80f0dd54c0>"
      ]
     },
     "metadata": {},
     "output_type": "display_data"
    },
    {
     "data": {
      "text/html": [
       "<pre style=\"white-space:pre;overflow-x:auto;line-height:normal;font-family:Menlo,'DejaVu Sans Mono',consolas,'Courier New',monospace\"><span style=\"color: #000080\">* vyos </span><span style=\"color: #000080; font-weight: bold\">(</span><span style=\"color: #000080\">failed = </span><span style=\"color: #00ff00; font-style: italic\">True</span><span style=\"color: #000080; font-weight: bold\">)</span>\n",
       "</pre>\n"
      ],
      "text/plain": [
       "<rich.jupyter.JupyterRenderable at 0x7f80d877b880>"
      ]
     },
     "metadata": {},
     "output_type": "display_data"
    },
    {
     "data": {
      "text/html": [
       "<pre style=\"white-space:pre;overflow-x:auto;line-height:normal;font-family:Menlo,'DejaVu Sans Mono',consolas,'Courier New',monospace\">  ╭─ napalm_ping <span style=\"font-weight: bold\">(</span>logging_level = ERROR, failed = <span style=\"color: #00ff00; font-style: italic\">True</span><span style=\"font-weight: bold\">)</span> ────────────────────────────────────╮\n",
       "  │    result = <span style=\"font-weight: bold\">{</span>                                                                           │\n",
       "  │                 <span style=\"color: #008000\">'success'</span>: <span style=\"font-weight: bold\">{</span>                                                            │\n",
       "  │                     <span style=\"color: #008000\">'probes_sent'</span>: <span style=\"color: #000080; font-weight: bold\">5</span>,                                                   │\n",
       "  │                     <span style=\"color: #008000\">'packet_loss'</span>: <span style=\"color: #000080; font-weight: bold\">0</span>,                                                   │\n",
       "  │                     <span style=\"color: #008000\">'rtt_min'</span>: <span style=\"color: #000080; font-weight: bold\">2.059</span>,                                                   │\n",
       "  │                     <span style=\"color: #008000\">'rtt_max'</span>: <span style=\"color: #000080; font-weight: bold\">3.94</span>,                                                    │\n",
       "  │                     <span style=\"color: #008000\">'rtt_avg'</span>: <span style=\"color: #000080; font-weight: bold\">2.956</span>,                                                   │\n",
       "  │                     <span style=\"color: #008000\">'rtt_stddev'</span>: <span style=\"color: #000080; font-weight: bold\">0.683</span>,                                                │\n",
       "  │                     <span style=\"color: #008000\">'results'</span>: <span style=\"font-weight: bold\">[{</span><span style=\"color: #008000\">'ip_address'</span>: <span style=\"color: #008000\">'192.168.99.1'</span>, <span style=\"color: #008000\">'rtt'</span>: <span style=\"color: #000080; font-weight: bold\">2.956</span><span style=\"font-weight: bold\">}]</span>           │\n",
       "  │                 <span style=\"font-weight: bold\">}</span>                                                                       │\n",
       "  │             <span style=\"font-weight: bold\">}</span>                                                                           │\n",
       "  │    tests 🔴 test_timing<span style=\"font-weight: bold\">(</span><span style=\"color: #808000; font-style: italic\">exception</span>=<span style=\"color: #800080; font-style: italic\">None</span>, <span style=\"color: #808000; font-style: italic\">fail_task</span>=<span style=\"color: #00ff00; font-style: italic\">True</span>, <span style=\"color: #808000; font-style: italic\">passed</span>=<span style=\"color: #ff0000; font-style: italic\">False</span>, <span style=\"color: #808000; font-style: italic\">min_run_time</span>=<span style=\"color: #000080; font-weight: bold\">0</span>,   │\n",
       "  │             <span style=\"color: #808000; font-style: italic\">max_run_time</span>=<span style=\"color: #000080; font-weight: bold\">1</span>, <span style=\"color: #808000; font-style: italic\">t0</span>=<span style=\"color: #000080; font-weight: bold\">1600058187.273896</span>, <span style=\"color: #808000; font-style: italic\">t1</span>=<span style=\"color: #000080; font-weight: bold\">1600058192.186771</span>, <span style=\"color: #808000; font-style: italic\">run_time</span>=<span style=\"color: #000080; font-weight: bold\">-1</span><span style=\"font-weight: bold\">)</span>    │\n",
       "  ╰─────────────────────────────────────────────────────────────────────────────────────────╯\n",
       "</pre>\n"
      ],
      "text/plain": [
       "<rich.jupyter.JupyterRenderable at 0x7f80f0dd0430>"
      ]
     },
     "metadata": {},
     "output_type": "display_data"
    },
    {
     "data": {
      "text/html": [
       "<pre style=\"white-space:pre;overflow-x:auto;line-height:normal;font-family:Menlo,'DejaVu Sans Mono',consolas,'Courier New',monospace\">\n",
       "</pre>\n"
      ],
      "text/plain": [
       "<rich.jupyter.JupyterRenderable at 0x7f80f0dd54c0>"
      ]
     },
     "metadata": {},
     "output_type": "display_data"
    }
   ],
   "source": [
    "result = vyos.run(\n",
    "    task=napalm_ping,\n",
    "    dest='192.168.99.1',\n",
    "    tests=[\n",
    "        test_timing(max_run_time=1, fail_task=True),\n",
    "    ]\n",
    ")\n",
    "rr.print(result, vars=['result', 'tests'])"
   ]
  },
  {
   "cell_type": "markdown",
   "metadata": {},
   "source": [
    "## Combining tests\n",
    "\n",
    "Tests can be stacked and the entire task and associated tests can be retried using test_until.  The next test shows how a rebooted device can be retried until it comes back up using only tests."
   ]
  },
  {
   "cell_type": "code",
   "execution_count": 9,
   "metadata": {
    "scrolled": true,
    "tags": []
   },
   "outputs": [
    {
     "data": {
      "text/html": [
       "<pre style=\"white-space:pre;overflow-x:auto;line-height:normal;font-family:Menlo,'DejaVu Sans Mono',consolas,'Courier New',monospace\"><span style=\"color: #000000; text-decoration: underline\">netmiko_send_command </span><span style=\"color: #000000; font-weight: bold; text-decoration: underline\">(</span><span style=\"color: #000000; text-decoration: underline\">hosts: </span><span style=\"color: #000080; font-weight: bold; text-decoration: underline\">1</span><span style=\"color: #000000; font-weight: bold; text-decoration: underline\">)</span>\n",
       "</pre>\n"
      ],
      "text/plain": [
       "<rich.jupyter.JupyterRenderable at 0x7f80d8f9af10>"
      ]
     },
     "metadata": {},
     "output_type": "display_data"
    },
    {
     "data": {
      "text/html": [
       "<pre style=\"white-space:pre;overflow-x:auto;line-height:normal;font-family:Menlo,'DejaVu Sans Mono',consolas,'Courier New',monospace\"><span style=\"color: #000080\">* vyos </span>\n",
       "</pre>\n"
      ],
      "text/plain": [
       "<rich.jupyter.JupyterRenderable at 0x7f80d874b100>"
      ]
     },
     "metadata": {},
     "output_type": "display_data"
    },
    {
     "data": {
      "text/html": [
       "<pre style=\"white-space:pre;overflow-x:auto;line-height:normal;font-family:Menlo,'DejaVu Sans Mono',consolas,'Courier New',monospace\"> ✔ netmiko_send_command \n",
       "</pre>\n"
      ],
      "text/plain": [
       "<rich.jupyter.JupyterRenderable at 0x7f80d877ba00>"
      ]
     },
     "metadata": {},
     "output_type": "display_data"
    },
    {
     "data": {
      "text/html": [
       "<pre style=\"white-space:pre;overflow-x:auto;line-height:normal;font-family:Menlo,'DejaVu Sans Mono',consolas,'Courier New',monospace\">\n",
       "</pre>\n"
      ],
      "text/plain": [
       "<rich.jupyter.JupyterRenderable at 0x7f80d8f9adc0>"
      ]
     },
     "metadata": {},
     "output_type": "display_data"
    },
    {
     "data": {
      "text/html": [
       "<pre style=\"white-space:pre;overflow-x:auto;line-height:normal;font-family:Menlo,'DejaVu Sans Mono',consolas,'Courier New',monospace\"><span style=\"color: #000000; text-decoration: underline\">napalm_get </span><span style=\"color: #000000; font-weight: bold; text-decoration: underline\">(</span><span style=\"color: #000000; text-decoration: underline\">hosts: </span><span style=\"color: #000080; font-weight: bold; text-decoration: underline\">1</span><span style=\"color: #000000; font-weight: bold; text-decoration: underline\">)</span>\n",
       "</pre>\n"
      ],
      "text/plain": [
       "<rich.jupyter.JupyterRenderable at 0x7f80f0dc6430>"
      ]
     },
     "metadata": {},
     "output_type": "display_data"
    },
    {
     "data": {
      "text/html": [
       "<pre style=\"white-space:pre;overflow-x:auto;line-height:normal;font-family:Menlo,'DejaVu Sans Mono',consolas,'Courier New',monospace\"><span style=\"color: #000080\">* vyos </span>\n",
       "</pre>\n"
      ],
      "text/plain": [
       "<rich.jupyter.JupyterRenderable at 0x7f80d87160d0>"
      ]
     },
     "metadata": {},
     "output_type": "display_data"
    },
    {
     "data": {
      "text/html": [
       "<pre style=\"white-space:pre;overflow-x:auto;line-height:normal;font-family:Menlo,'DejaVu Sans Mono',consolas,'Courier New',monospace\">  ╭─ napalm_get  ───────────────────────────────────────────────────────────────────────────╮\n",
       "  │    result = <span style=\"font-weight: bold\">{</span>                                                                           │\n",
       "  │                 <span style=\"color: #008000\">'interfaces'</span>: <span style=\"font-weight: bold\">{</span>                                                         │\n",
       "  │                     <span style=\"color: #008000\">'eth0'</span>: <span style=\"font-weight: bold\">{</span>                                                           │\n",
       "  │                         <span style=\"color: #008000\">'is_up'</span>: <span style=\"color: #00ff00; font-style: italic\">True</span>,                                                  │\n",
       "  │                         <span style=\"color: #008000\">'is_enabled'</span>: <span style=\"color: #00ff00; font-style: italic\">True</span>,                                             │\n",
       "  │                         <span style=\"color: #008000\">'description'</span>: <span style=\"color: #008000\">''</span>,                                              │\n",
       "  │                         <span style=\"color: #008000\">'last_flapped'</span>: <span style=\"color: #000080; font-weight: bold\">-1.0</span>,                                           │\n",
       "  │                         <span style=\"color: #008000\">'mtu'</span>: <span style=\"color: #000080; font-weight: bold\">-1</span>,                                                      │\n",
       "  │                         <span style=\"color: #008000\">'speed'</span>: <span style=\"color: #000080; font-weight: bold\">0</span>,                                                     │\n",
       "  │                         <span style=\"color: #008000\">'mac_address'</span>: <span style=\"color: #008000\">'08:00:27:e0:28:63'</span>                              │\n",
       "  │                     <span style=\"font-weight: bold\">}</span>,                                                                  │\n",
       "  │                     <span style=\"color: #008000\">'lo'</span>: <span style=\"font-weight: bold\">{</span>                                                             │\n",
       "  │                         <span style=\"color: #008000\">'is_up'</span>: <span style=\"color: #00ff00; font-style: italic\">True</span>,                                                  │\n",
       "  │                         <span style=\"color: #008000\">'is_enabled'</span>: <span style=\"color: #00ff00; font-style: italic\">True</span>,                                             │\n",
       "  │                         <span style=\"color: #008000\">'description'</span>: <span style=\"color: #008000\">''</span>,                                              │\n",
       "  │                         <span style=\"color: #008000\">'last_flapped'</span>: <span style=\"color: #000080; font-weight: bold\">-1.0</span>,                                           │\n",
       "  │                         <span style=\"color: #008000\">'mtu'</span>: <span style=\"color: #000080; font-weight: bold\">-1</span>,                                                      │\n",
       "  │                         <span style=\"color: #008000\">'speed'</span>: <span style=\"color: #000080; font-weight: bold\">0</span>,                                                     │\n",
       "  │                         <span style=\"color: #008000\">'mac_address'</span>: <span style=\"color: #008000\">'00:00:00:00:00:00'</span>                              │\n",
       "  │                     <span style=\"font-weight: bold\">}</span>                                                                   │\n",
       "  │                 <span style=\"font-weight: bold\">}</span>                                                                       │\n",
       "  │             <span style=\"font-weight: bold\">}</span>                                                                           │\n",
       "  │    tests 🟢 test_jsonpath<span style=\"font-weight: bold\">(</span><span style=\"color: #808000; font-style: italic\">exception</span>=<span style=\"color: #800080; font-style: italic\">None</span>, <span style=\"color: #808000; font-style: italic\">fail_task</span>=<span style=\"color: #00ff00; font-style: italic\">True</span>, <span style=\"color: #808000; font-style: italic\">passed</span>=<span style=\"color: #00ff00; font-style: italic\">True</span>,                  │\n",
       "  │             <span style=\"color: #808000; font-style: italic\">assertion</span>=<span style=\"color: #008000\">'is_true'</span>, <span style=\"color: #808000; font-style: italic\">value</span>=<span style=\"color: #800080; font-style: italic\">None</span>, <span style=\"color: #808000; font-style: italic\">path</span>=<span style=\"color: #008000\">'interfaces.eth0.is_up'</span>, <span style=\"color: #808000; font-style: italic\">host_data</span>=<span style=\"color: #008000\">''</span>,│\n",
       "  │             <span style=\"color: #808000; font-style: italic\">one_of</span>=<span style=\"color: #ff0000; font-style: italic\">False</span>, <span style=\"color: #808000; font-style: italic\">result_attr</span>=<span style=\"color: #008000\">'result'</span>, <span style=\"color: #808000; font-style: italic\">matches</span>=<span style=\"font-weight: bold\">[</span><span style=\"color: #008000\">'interfaces.eth0.is_up'</span><span style=\"font-weight: bold\">])</span>      │\n",
       "  │          🟢 test_until<span style=\"font-weight: bold\">(</span><span style=\"color: #808000; font-style: italic\">exception</span>=<span style=\"color: #800080; font-style: italic\">None</span>, <span style=\"color: #808000; font-style: italic\">fail_task</span>=<span style=\"color: #ff0000; font-style: italic\">False</span>, <span style=\"color: #808000; font-style: italic\">passed</span>=<span style=\"color: #00ff00; font-style: italic\">True</span>, <span style=\"color: #808000; font-style: italic\">initial_delay</span>=<span style=\"color: #000080; font-weight: bold\">15</span>,  │\n",
       "  │             <span style=\"color: #808000; font-style: italic\">retries</span>=<span style=\"color: #000080; font-weight: bold\">10</span>, <span style=\"color: #808000; font-style: italic\">delay</span>=<span style=\"color: #000080; font-weight: bold\">15</span>, <span style=\"color: #808000; font-style: italic\">reset_conns</span>=<span style=\"color: #00ff00; font-style: italic\">True</span>, <span style=\"color: #808000; font-style: italic\">t0</span>=<span style=\"color: #000080; font-weight: bold\">1600058300.1391218</span>,              │\n",
       "  │             <span style=\"color: #808000; font-style: italic\">t1</span>=<span style=\"color: #000080; font-weight: bold\">1600058356.861029</span>, <span style=\"color: #808000; font-style: italic\">run_time</span>=<span style=\"color: #000080; font-weight: bold\">56.72190713882446</span><span style=\"font-weight: bold\">)</span>                           │\n",
       "  ╰─────────────────────────────────────────────────────────────────────────────────────────╯\n",
       "</pre>\n"
      ],
      "text/plain": [
       "<rich.jupyter.JupyterRenderable at 0x7f80d8716370>"
      ]
     },
     "metadata": {},
     "output_type": "display_data"
    },
    {
     "data": {
      "text/html": [
       "<pre style=\"white-space:pre;overflow-x:auto;line-height:normal;font-family:Menlo,'DejaVu Sans Mono',consolas,'Courier New',monospace\">\n",
       "</pre>\n"
      ],
      "text/plain": [
       "<rich.jupyter.JupyterRenderable at 0x7f80f0dc6430>"
      ]
     },
     "metadata": {},
     "output_type": "display_data"
    }
   ],
   "source": [
    "nr.data.reset_failed_hosts()\n",
    "\n",
    "rr.print(\n",
    "    vyos.run(\n",
    "        task=netmiko_send_command,\n",
    "        command_string='reboot now'\n",
    "    )\n",
    ")\n",
    "\n",
    "result = vyos.run(\n",
    "    task=napalm_get,\n",
    "    getters=['interfaces'],\n",
    "    tests=[\n",
    "        test_jsonpath(path='interfaces.eth0.is_up', assertion='is_true', fail_task=True),\n",
    "        test_until(initial_delay=15, retries=10, delay=15, reset_conns=True),\n",
    "    ]\n",
    ")\n",
    "rr.print(result, vars=['result', 'tests'])"
   ]
  },
  {
   "cell_type": "markdown",
   "metadata": {},
   "source": [
    "Not bad.  The result above shows that it must have failed on its first try but by 36 seconds it was able to pass the test_jsonpath test and the call to napalm_get and so test_until finished up.\n",
    "\n",
    "This was pretty haphazard but other tutorials will go into more details about each of the tests."
   ]
  }
 ],
 "metadata": {
  "kernelspec": {
   "display_name": "Python 3.8.2 64-bit ('.venv': venv)",
   "language": "python",
   "name": "python38264bitvenvvenv1c35bb63d8ff4e6aa6d1792b190afa1b"
  },
  "language_info": {
   "codemirror_mode": {
    "name": "ipython",
    "version": 3
   },
   "file_extension": ".py",
   "mimetype": "text/x-python",
   "name": "python",
   "nbconvert_exporter": "python",
   "pygments_lexer": "ipython3",
   "version": "3.8.2"
  }
 },
 "nbformat": 4,
 "nbformat_minor": 2
}
