{
 "cells": [
  {
   "cell_type": "markdown",
   "metadata": {},
   "source": [
    "# Introduction\n",
    "\n",
    "The idea behind nornir_tests is to allow for adding tests against the task run and its results.  Many times, a task can run and get some output but that doesn't mean it is successful.  One option is to add additional checks or tasks with some conditional logic to deal with this.  Another is to add tests against the data returned from a task.  That is what nornir_tests is for.\n",
    "\n",
    "The question is probably why use tests.  Tests were inspired by the same feature in postman.  In postman, a test was something that was done against the data returned from a postman request to determine if the request was actually successful.  This can certainly be added in python using either pure python or additional tasks but there is some elegance and some additional functionality obtained by using tests tied to tasks.  In this intro, I will try to touch on a variety of ideas using tests.  In further tutorials I'll go into more detail on using each of the test types."
   ]
  },
  {
   "cell_type": "markdown",
   "metadata": {},
   "source": [
    "## Nornir initialization\n",
    "\n",
    "This is standard nornir initialization and imports of tasks.  A different library nornir_rich is used for output to provide more detail and highlighting.  Using print_result is also possible if vars is set to include 'tests' attribute."
   ]
  },
  {
   "cell_type": "code",
   "execution_count": 10,
   "metadata": {},
   "outputs": [],
   "source": [
    "from nornir_napalm.plugins.tasks import napalm_get, napalm_ping\n",
    "from nornir_netmiko.tasks import netmiko_send_command\n",
    "from nornir_rich.plugins.functions import RichResults\n",
    "from nornir import InitNornir\n",
    "\n",
    "nr = InitNornir(\n",
    "    inventory={\n",
    "        \"plugin\": \"SimpleInventory\",\n",
    "        \"options\": {\n",
    "            \"host_file\": \"data/hosts.yaml\",\n",
    "            \"group_file\": \"data/groups.yaml\",\n",
    "            \"defaults_file\": \"data/defaults.yaml\",\n",
    "        },\n",
    "    },\n",
    ")\n",
    "\n",
    "rr = RichResults(width=67)"
   ]
  },
  {
   "cell_type": "markdown",
   "metadata": {},
   "source": [
    "## Setup of nornir_rich\n",
    "\n",
    "TestsProcessor is appended to the processors list and the inventory is shown. This can be done using config.yaml as well or a few other ways that are covered in the Nornir documentation."
   ]
  },
  {
   "cell_type": "code",
   "execution_count": 11,
   "metadata": {
    "tags": []
   },
   "outputs": [],
   "source": [
    "from nornir_tests.plugins.tests import test_regexp, test_until, test_timing, test_jsonpath\n",
    "from nornir_tests.plugins.processors import TestsProcessor\n",
    "nr.processors.append(TestsProcessor())"
   ]
  },
  {
   "cell_type": "markdown",
   "metadata": {},
   "source": [
    "## Run task and include jsonpath assertion\n",
    "\n",
    "In the first example, a vyos router interface facts are obtained using napalm and a test is run to validate the result."
   ]
  },
  {
   "cell_type": "code",
   "execution_count": 12,
   "metadata": {
    "tags": []
   },
   "outputs": [
    {
     "data": {
      "text/html": [
       "<pre style=\"white-space:pre;overflow-x:auto;line-height:normal;font-family:Menlo,'DejaVu Sans Mono',consolas,'Courier New',monospace\">napalm_get*********************************************************\n",
       "</pre>\n"
      ],
      "text/plain": [
       "<rich.jupyter.JupyterRenderable at 0x7fbd695111f0>"
      ]
     },
     "metadata": {},
     "output_type": "display_data"
    },
    {
     "data": {
      "text/html": [
       "<pre style=\"white-space:pre;overflow-x:auto;line-height:normal;font-family:Menlo,'DejaVu Sans Mono',consolas,'Courier New',monospace\"><span style=\"color: #000080\">* vyos ** changed = </span><span style=\"color: #ff0000; font-style: italic\">False</span><span style=\"color: #000080\"> *****************************************</span>\n",
       "</pre>\n"
      ],
      "text/plain": [
       "<rich.jupyter.JupyterRenderable at 0x7fbd695111f0>"
      ]
     },
     "metadata": {},
     "output_type": "display_data"
    },
    {
     "data": {
      "text/html": [
       "<pre style=\"white-space:pre;overflow-x:auto;line-height:normal;font-family:Menlo,'DejaVu Sans Mono',consolas,'Courier New',monospace\"><span style=\"color: #005f00\">vvvv napalm_get ** changed = False vvvvvvvvvvvvvvvvvvvvvvvvvvv INFO</span>\n",
       "</pre>\n"
      ],
      "text/plain": [
       "<rich.jupyter.JupyterRenderable at 0x7fbd6941b610>"
      ]
     },
     "metadata": {},
     "output_type": "display_data"
    },
    {
     "data": {
      "text/html": [
       "<pre style=\"white-space:pre;overflow-x:auto;line-height:normal;font-family:Menlo,'DejaVu Sans Mono',consolas,'Courier New',monospace\">{\n",
       "    'interfaces': {\n",
       "        'eth0': {\n",
       "            'is_up': True,\n",
       "            'is_enabled': True,\n",
       "            'description': '',\n",
       "            'last_flapped': -1.0,\n",
       "            'mtu': -1,\n",
       "            'speed': 0,\n",
       "            'mac_address': '08:00:27:e0:28:63'\n",
       "        },\n",
       "        'lo': {\n",
       "            'is_up': True,\n",
       "            'is_enabled': True,\n",
       "            'description': '',\n",
       "            'last_flapped': -1.0,\n",
       "            'mtu': -1,\n",
       "            'speed': 0,\n",
       "            'mac_address': '00:00:00:00:00:00'\n",
       "        }\n",
       "    }\n",
       "}\n",
       "</pre>\n"
      ],
      "text/plain": [
       "<rich.jupyter.JupyterRenderable at 0x7fbd693b7ac0>"
      ]
     },
     "metadata": {},
     "output_type": "display_data"
    },
    {
     "data": {
      "text/html": [
       "<pre style=\"white-space:pre;overflow-x:auto;line-height:normal;font-family:Menlo,'DejaVu Sans Mono',consolas,'Courier New',monospace\"><span style=\"color: #005f00\">test_jsonpath</span><span style=\"color: #005f00; font-weight: bold\">(</span><span style=\"color: #808000; font-style: italic\">fail_task</span><span style=\"color: #005f00\">=</span><span style=\"color: #ff0000; font-style: italic\">False</span><span style=\"color: #005f00\">, </span><span style=\"color: #808000; font-style: italic\">passed</span><span style=\"color: #005f00\">=</span><span style=\"color: #00ff00; font-style: italic\">True</span><span style=\"color: #005f00\">, </span><span style=\"color: #808000; font-style: italic\">exception</span><span style=\"color: #005f00\">=</span><span style=\"color: #008000\">''</span><span style=\"color: #005f00\">, </span><span style=\"color: #808000; font-style: italic\">assertion</span><span style=\"color: #005f00\">=</span><span style=\"color: #008000\">'is_true'</span><span style=\"color: #005f00\">, </span><span style=\"color: #808000; font-style: italic\">value</span><span style=\"color: #005f00\">=</span><span style=\"color: #800080; font-style: italic\">None</span><span style=\"color: #005f00\">, </span>\n",
       "<span style=\"color: #808000; font-style: italic\">path</span><span style=\"color: #005f00\">=</span><span style=\"color: #008000\">'interfaces.eth0.is_up'</span><span style=\"color: #005f00\">, </span><span style=\"color: #808000; font-style: italic\">host_data</span><span style=\"color: #005f00\">=</span><span style=\"color: #008000\">''</span><span style=\"color: #005f00\">, </span><span style=\"color: #808000; font-style: italic\">one_of</span><span style=\"color: #005f00\">=</span><span style=\"color: #ff0000; font-style: italic\">False</span><span style=\"color: #005f00\">, </span><span style=\"color: #808000; font-style: italic\">result_attr</span><span style=\"color: #005f00\">=</span><span style=\"color: #008000\">'result'</span><span style=\"color: #005f00\">, </span>\n",
       "<span style=\"color: #808000; font-style: italic\">matches</span><span style=\"color: #005f00\">=</span><span style=\"color: #005f00; font-weight: bold\">[</span><span style=\"color: #008000\">'interfaces.eth0.is_up'</span><span style=\"color: #005f00; font-weight: bold\">])</span>\n",
       "</pre>\n"
      ],
      "text/plain": [
       "<rich.jupyter.JupyterRenderable at 0x7fbd693b7ac0>"
      ]
     },
     "metadata": {},
     "output_type": "display_data"
    },
    {
     "data": {
      "text/html": [
       "<pre style=\"white-space:pre;overflow-x:auto;line-height:normal;font-family:Menlo,'DejaVu Sans Mono',consolas,'Courier New',monospace\"><span style=\"color: #005f00\">^^^^ END napalm_get ^^^^^^^^^^^^^^^^^^^^^^^^^^^^^^^^^^^^^^^^^^^^^^^</span>\n",
       "</pre>\n"
      ],
      "text/plain": [
       "<rich.jupyter.JupyterRenderable at 0x7fbd6941b610>"
      ]
     },
     "metadata": {},
     "output_type": "display_data"
    }
   ],
   "source": [
    "vyos = nr.filter(name='vyos')\n",
    "\n",
    "result = vyos.run(\n",
    "    task=napalm_get,\n",
    "    getters=['interfaces'],\n",
    "    tests=[\n",
    "        test_jsonpath(path='interfaces.eth0.is_up', assertion='is_true'),\n",
    "    ]\n",
    ")\n",
    "\n",
    "rr.print(result)"
   ]
  },
  {
   "cell_type": "markdown",
   "metadata": {},
   "source": [
    "## Run ping with timing requirements\n",
    "\n",
    "Next a ping is sent to the vyos device using the timing test.  As can be seen in the output, this gives runtime of the task and can be enhanced with min_run_time and max_run_time to affect the task result if the fail_task argument is used.  If a failure occurs in the test and fail_task is set to True, then the task will be marked as failed."
   ]
  },
  {
   "cell_type": "code",
   "execution_count": 13,
   "metadata": {
    "tags": []
   },
   "outputs": [
    {
     "data": {
      "text/html": [
       "<pre style=\"white-space:pre;overflow-x:auto;line-height:normal;font-family:Menlo,'DejaVu Sans Mono',consolas,'Courier New',monospace\">napalm_ping********************************************************\n",
       "</pre>\n"
      ],
      "text/plain": [
       "<rich.jupyter.JupyterRenderable at 0x7fbd693cbe50>"
      ]
     },
     "metadata": {},
     "output_type": "display_data"
    },
    {
     "data": {
      "text/html": [
       "<pre style=\"white-space:pre;overflow-x:auto;line-height:normal;font-family:Menlo,'DejaVu Sans Mono',consolas,'Courier New',monospace\"><span style=\"color: #000080\">* vyos ** changed = </span><span style=\"color: #ff0000; font-style: italic\">False</span><span style=\"color: #000080\"> *****************************************</span>\n",
       "</pre>\n"
      ],
      "text/plain": [
       "<rich.jupyter.JupyterRenderable at 0x7fbd682d8e80>"
      ]
     },
     "metadata": {},
     "output_type": "display_data"
    },
    {
     "data": {
      "text/html": [
       "<pre style=\"white-space:pre;overflow-x:auto;line-height:normal;font-family:Menlo,'DejaVu Sans Mono',consolas,'Courier New',monospace\"><span style=\"color: #005f00\">vvvv napalm_ping ** changed = False vvvvvvvvvvvvvvvvvvvvvvvvvv INFO</span>\n",
       "</pre>\n"
      ],
      "text/plain": [
       "<rich.jupyter.JupyterRenderable at 0x7fbd693cb670>"
      ]
     },
     "metadata": {},
     "output_type": "display_data"
    },
    {
     "data": {
      "text/html": [
       "<pre style=\"white-space:pre;overflow-x:auto;line-height:normal;font-family:Menlo,'DejaVu Sans Mono',consolas,'Courier New',monospace\">{\n",
       "    'success': {\n",
       "        'probes_sent': 5,\n",
       "        'packet_loss': 0,\n",
       "        'rtt_min': 3.51,\n",
       "        'rtt_max': 8.476,\n",
       "        'rtt_avg': 4.764,\n",
       "        'rtt_stddev': 1.873,\n",
       "        'results': [{'ip_address': '192.168.99.1', 'rtt': 4.764}]\n",
       "    }\n",
       "}\n",
       "</pre>\n"
      ],
      "text/plain": [
       "<rich.jupyter.JupyterRenderable at 0x7fbd693cb670>"
      ]
     },
     "metadata": {},
     "output_type": "display_data"
    },
    {
     "data": {
      "text/html": [
       "<pre style=\"white-space:pre;overflow-x:auto;line-height:normal;font-family:Menlo,'DejaVu Sans Mono',consolas,'Courier New',monospace\"><span style=\"color: #005f00\">test_timing</span><span style=\"color: #005f00; font-weight: bold\">(</span><span style=\"color: #808000; font-style: italic\">fail_task</span><span style=\"color: #005f00\">=</span><span style=\"color: #ff0000; font-style: italic\">False</span><span style=\"color: #005f00\">, </span><span style=\"color: #808000; font-style: italic\">passed</span><span style=\"color: #005f00\">=</span><span style=\"color: #00ff00; font-style: italic\">True</span><span style=\"color: #005f00\">, </span><span style=\"color: #808000; font-style: italic\">exception</span><span style=\"color: #005f00\">=</span><span style=\"color: #008000\">''</span><span style=\"color: #005f00\">, </span><span style=\"color: #808000; font-style: italic\">min_run_time</span><span style=\"color: #005f00\">=</span><span style=\"color: #000080; font-weight: bold\">0</span><span style=\"color: #005f00\">, </span>\n",
       "<span style=\"color: #808000; font-style: italic\">max_run_time</span><span style=\"color: #005f00\">=</span><span style=\"color: #000080; font-weight: bold\">9223372036854775807</span><span style=\"color: #005f00\">, </span><span style=\"color: #808000; font-style: italic\">t0</span><span style=\"color: #005f00\">=</span><span style=\"color: #000080; font-weight: bold\">1599952293.4424195</span><span style=\"color: #005f00\">, </span><span style=\"color: #808000; font-style: italic\">t1</span><span style=\"color: #005f00\">=</span><span style=\"color: #000080; font-weight: bold\">1599952298.3578956</span><span style=\"color: #005f00\">, </span><span style=\"color: #808000; font-style: italic\">run_time</span><span style=\"color: #005f00\">=</span><span style=\"color: #000080; font-weight: bold\">-1</span><span style=\"color: #005f00; font-weight: bold\">)</span>\n",
       "</pre>\n"
      ],
      "text/plain": [
       "<rich.jupyter.JupyterRenderable at 0x7fbd693cb670>"
      ]
     },
     "metadata": {},
     "output_type": "display_data"
    },
    {
     "data": {
      "text/html": [
       "<pre style=\"white-space:pre;overflow-x:auto;line-height:normal;font-family:Menlo,'DejaVu Sans Mono',consolas,'Courier New',monospace\"><span style=\"color: #005f00\">^^^^ END napalm_ping ^^^^^^^^^^^^^^^^^^^^^^^^^^^^^^^^^^^^^^^^^^^^^^</span>\n",
       "</pre>\n"
      ],
      "text/plain": [
       "<rich.jupyter.JupyterRenderable at 0x7fbd693cb670>"
      ]
     },
     "metadata": {},
     "output_type": "display_data"
    }
   ],
   "source": [
    "result = vyos.run(\n",
    "    task=napalm_ping,\n",
    "    dest='192.168.99.1',\n",
    "    tests=[\n",
    "        test_timing(),\n",
    "    ]\n",
    ")\n",
    "rr.print(result)"
   ]
  },
  {
   "cell_type": "markdown",
   "metadata": {},
   "source": [
    "## Get unfailed task to fail due to assertion\n",
    "\n",
    "The next example shows how the result failed state can be affected by a test."
   ]
  },
  {
   "cell_type": "code",
   "execution_count": 14,
   "metadata": {
    "tags": []
   },
   "outputs": [
    {
     "data": {
      "text/html": [
       "<pre style=\"white-space:pre;overflow-x:auto;line-height:normal;font-family:Menlo,'DejaVu Sans Mono',consolas,'Courier New',monospace\">napalm_ping********************************************************\n",
       "</pre>\n"
      ],
      "text/plain": [
       "<rich.jupyter.JupyterRenderable at 0x7fbd69477e20>"
      ]
     },
     "metadata": {},
     "output_type": "display_data"
    },
    {
     "data": {
      "text/html": [
       "<pre style=\"white-space:pre;overflow-x:auto;line-height:normal;font-family:Menlo,'DejaVu Sans Mono',consolas,'Courier New',monospace\"><span style=\"color: #000080\">* vyos ** changed = </span><span style=\"color: #ff0000; font-style: italic\">False</span><span style=\"color: #000080\"> *****************************************</span>\n",
       "</pre>\n"
      ],
      "text/plain": [
       "<rich.jupyter.JupyterRenderable at 0x7fbd8113aa60>"
      ]
     },
     "metadata": {},
     "output_type": "display_data"
    },
    {
     "data": {
      "text/html": [
       "<pre style=\"white-space:pre;overflow-x:auto;line-height:normal;font-family:Menlo,'DejaVu Sans Mono',consolas,'Courier New',monospace\"><span style=\"color: #800000\">vvvv napalm_ping ** changed = False vvvvvvvvvvvvvvvvvvvvvvvvv ERROR</span>\n",
       "</pre>\n"
      ],
      "text/plain": [
       "<rich.jupyter.JupyterRenderable at 0x7fbd811545b0>"
      ]
     },
     "metadata": {},
     "output_type": "display_data"
    },
    {
     "data": {
      "text/html": [
       "<pre style=\"white-space:pre;overflow-x:auto;line-height:normal;font-family:Menlo,'DejaVu Sans Mono',consolas,'Courier New',monospace\">{\n",
       "    'success': {\n",
       "        'probes_sent': 5,\n",
       "        'packet_loss': 0,\n",
       "        'rtt_min': 3.1,\n",
       "        'rtt_max': 4.138,\n",
       "        'rtt_avg': 3.598,\n",
       "        'rtt_stddev': 0.385,\n",
       "        'results': [{'ip_address': '192.168.99.1', 'rtt': 3.598}]\n",
       "    }\n",
       "}\n",
       "</pre>\n"
      ],
      "text/plain": [
       "<rich.jupyter.JupyterRenderable at 0x7fbd811545b0>"
      ]
     },
     "metadata": {},
     "output_type": "display_data"
    },
    {
     "data": {
      "text/html": [
       "<pre style=\"white-space:pre;overflow-x:auto;line-height:normal;font-family:Menlo,'DejaVu Sans Mono',consolas,'Courier New',monospace\"><span style=\"color: #800000\">test_timing</span><span style=\"color: #800000; font-weight: bold\">(</span><span style=\"color: #808000; font-style: italic\">fail_task</span><span style=\"color: #800000\">=</span><span style=\"color: #00ff00; font-style: italic\">True</span><span style=\"color: #800000\">, </span><span style=\"color: #808000; font-style: italic\">passed</span><span style=\"color: #800000\">=</span><span style=\"color: #ff0000; font-style: italic\">False</span><span style=\"color: #800000\">, </span><span style=\"color: #808000; font-style: italic\">exception</span><span style=\"color: #800000\">=</span><span style=\"color: #008000\">''</span><span style=\"color: #800000\">, </span><span style=\"color: #808000; font-style: italic\">min_run_time</span><span style=\"color: #800000\">=</span><span style=\"color: #000080; font-weight: bold\">0</span><span style=\"color: #800000\">, </span><span style=\"color: #808000; font-style: italic\">max_run_time</span><span style=\"color: #800000\">=</span><span style=\"color: #000080; font-weight: bold\">1</span><span style=\"color: #800000\">, </span>\n",
       "<span style=\"color: #808000; font-style: italic\">t0</span><span style=\"color: #800000\">=</span><span style=\"color: #000080; font-weight: bold\">1599952298.392972</span><span style=\"color: #800000\">, </span><span style=\"color: #808000; font-style: italic\">t1</span><span style=\"color: #800000\">=</span><span style=\"color: #000080; font-weight: bold\">1599952303.307994</span><span style=\"color: #800000\">, </span><span style=\"color: #808000; font-style: italic\">run_time</span><span style=\"color: #800000\">=</span><span style=\"color: #000080; font-weight: bold\">-1</span><span style=\"color: #800000; font-weight: bold\">)</span>\n",
       "</pre>\n"
      ],
      "text/plain": [
       "<rich.jupyter.JupyterRenderable at 0x7fbd811545b0>"
      ]
     },
     "metadata": {},
     "output_type": "display_data"
    },
    {
     "data": {
      "text/html": [
       "<pre style=\"white-space:pre;overflow-x:auto;line-height:normal;font-family:Menlo,'DejaVu Sans Mono',consolas,'Courier New',monospace\"><span style=\"color: #800000\">^^^^ END napalm_ping ^^^^^^^^^^^^^^^^^^^^^^^^^^^^^^^^^^^^^^^^^^^^^^</span>\n",
       "</pre>\n"
      ],
      "text/plain": [
       "<rich.jupyter.JupyterRenderable at 0x7fbd81146460>"
      ]
     },
     "metadata": {},
     "output_type": "display_data"
    }
   ],
   "source": [
    "result = vyos.run(\n",
    "    task=napalm_ping,\n",
    "    dest='192.168.99.1',\n",
    "    tests=[\n",
    "        test_timing(max_run_time=1, fail_task=True),\n",
    "    ]\n",
    ")\n",
    "rr.print(result)"
   ]
  },
  {
   "cell_type": "markdown",
   "metadata": {},
   "source": [
    "## Combining tests\n",
    "\n",
    "Tests can be stacked and the entire task and associated tests can be retried using test_until.  The next test shows how a rebooted device can be retried until it comes back up using only tests."
   ]
  },
  {
   "cell_type": "code",
   "execution_count": 15,
   "metadata": {
    "scrolled": true,
    "tags": []
   },
   "outputs": [
    {
     "data": {
      "text/html": [
       "<pre style=\"white-space:pre;overflow-x:auto;line-height:normal;font-family:Menlo,'DejaVu Sans Mono',consolas,'Courier New',monospace\">netmiko_send_command***********************************************\n",
       "</pre>\n"
      ],
      "text/plain": [
       "<rich.jupyter.JupyterRenderable at 0x7fbd6832a430>"
      ]
     },
     "metadata": {},
     "output_type": "display_data"
    },
    {
     "data": {
      "text/html": [
       "<pre style=\"white-space:pre;overflow-x:auto;line-height:normal;font-family:Menlo,'DejaVu Sans Mono',consolas,'Courier New',monospace\"><span style=\"color: #000080\">* vyos ** changed = </span><span style=\"color: #ff0000; font-style: italic\">False</span><span style=\"color: #000080\"> *****************************************</span>\n",
       "</pre>\n"
      ],
      "text/plain": [
       "<rich.jupyter.JupyterRenderable at 0x7fbd68374e50>"
      ]
     },
     "metadata": {},
     "output_type": "display_data"
    },
    {
     "data": {
      "text/html": [
       "<pre style=\"white-space:pre;overflow-x:auto;line-height:normal;font-family:Menlo,'DejaVu Sans Mono',consolas,'Courier New',monospace\"><span style=\"color: #005f00\">vvvv netmiko_send_command ** changed = False vvvvvvvvvvvvvvvvv INFO</span>\n",
       "</pre>\n"
      ],
      "text/plain": [
       "<rich.jupyter.JupyterRenderable at 0x7fbd6832a8b0>"
      ]
     },
     "metadata": {},
     "output_type": "display_data"
    },
    {
     "data": {
      "text/html": [
       "<pre style=\"white-space:pre;overflow-x:auto;line-height:normal;font-family:Menlo,'DejaVu Sans Mono',consolas,'Courier New',monospace\"><span style=\"color: #005f00\">^^^^ END netmiko_send_command ^^^^^^^^^^^^^^^^^^^^^^^^^^^^^^^^^^^^^</span>\n",
       "</pre>\n"
      ],
      "text/plain": [
       "<rich.jupyter.JupyterRenderable at 0x7fbd68374f10>"
      ]
     },
     "metadata": {},
     "output_type": "display_data"
    },
    {
     "data": {
      "text/html": [
       "<pre style=\"white-space:pre;overflow-x:auto;line-height:normal;font-family:Menlo,'DejaVu Sans Mono',consolas,'Courier New',monospace\">napalm_get*********************************************************\n",
       "</pre>\n"
      ],
      "text/plain": [
       "<rich.jupyter.JupyterRenderable at 0x7fbd68374e50>"
      ]
     },
     "metadata": {},
     "output_type": "display_data"
    },
    {
     "data": {
      "text/html": [
       "<pre style=\"white-space:pre;overflow-x:auto;line-height:normal;font-family:Menlo,'DejaVu Sans Mono',consolas,'Courier New',monospace\"><span style=\"color: #000080\">* vyos ** changed = </span><span style=\"color: #ff0000; font-style: italic\">False</span><span style=\"color: #000080\"> *****************************************</span>\n",
       "</pre>\n"
      ],
      "text/plain": [
       "<rich.jupyter.JupyterRenderable at 0x7fbd68374e50>"
      ]
     },
     "metadata": {},
     "output_type": "display_data"
    },
    {
     "data": {
      "text/html": [
       "<pre style=\"white-space:pre;overflow-x:auto;line-height:normal;font-family:Menlo,'DejaVu Sans Mono',consolas,'Courier New',monospace\"><span style=\"color: #005f00\">vvvv napalm_get ** changed = False vvvvvvvvvvvvvvvvvvvvvvvvvvv INFO</span>\n",
       "</pre>\n"
      ],
      "text/plain": [
       "<rich.jupyter.JupyterRenderable at 0x7fbd69493040>"
      ]
     },
     "metadata": {},
     "output_type": "display_data"
    },
    {
     "data": {
      "text/html": [
       "<pre style=\"white-space:pre;overflow-x:auto;line-height:normal;font-family:Menlo,'DejaVu Sans Mono',consolas,'Courier New',monospace\">{\n",
       "    'interfaces': {\n",
       "        'eth0': {\n",
       "            'is_up': True,\n",
       "            'is_enabled': True,\n",
       "            'description': '',\n",
       "            'last_flapped': -1.0,\n",
       "            'mtu': -1,\n",
       "            'speed': 0,\n",
       "            'mac_address': '08:00:27:e0:28:63'\n",
       "        },\n",
       "        'lo': {\n",
       "            'is_up': True,\n",
       "            'is_enabled': True,\n",
       "            'description': '',\n",
       "            'last_flapped': -1.0,\n",
       "            'mtu': -1,\n",
       "            'speed': 0,\n",
       "            'mac_address': '00:00:00:00:00:00'\n",
       "        }\n",
       "    }\n",
       "}\n",
       "</pre>\n"
      ],
      "text/plain": [
       "<rich.jupyter.JupyterRenderable at 0x7fbd6832a580>"
      ]
     },
     "metadata": {},
     "output_type": "display_data"
    },
    {
     "data": {
      "text/html": [
       "<pre style=\"white-space:pre;overflow-x:auto;line-height:normal;font-family:Menlo,'DejaVu Sans Mono',consolas,'Courier New',monospace\"><span style=\"color: #005f00\">test_jsonpath</span><span style=\"color: #005f00; font-weight: bold\">(</span><span style=\"color: #808000; font-style: italic\">fail_task</span><span style=\"color: #005f00\">=</span><span style=\"color: #00ff00; font-style: italic\">True</span><span style=\"color: #005f00\">, </span><span style=\"color: #808000; font-style: italic\">passed</span><span style=\"color: #005f00\">=</span><span style=\"color: #00ff00; font-style: italic\">True</span><span style=\"color: #005f00\">, </span><span style=\"color: #808000; font-style: italic\">exception</span><span style=\"color: #005f00\">=</span><span style=\"color: #008000\">''</span><span style=\"color: #005f00\">, </span><span style=\"color: #808000; font-style: italic\">assertion</span><span style=\"color: #005f00\">=</span><span style=\"color: #008000\">'is_true'</span><span style=\"color: #005f00\">, </span><span style=\"color: #808000; font-style: italic\">value</span><span style=\"color: #005f00\">=</span><span style=\"color: #800080; font-style: italic\">None</span><span style=\"color: #005f00\">, </span>\n",
       "<span style=\"color: #808000; font-style: italic\">path</span><span style=\"color: #005f00\">=</span><span style=\"color: #008000\">'interfaces.eth0.is_up'</span><span style=\"color: #005f00\">, </span><span style=\"color: #808000; font-style: italic\">host_data</span><span style=\"color: #005f00\">=</span><span style=\"color: #008000\">''</span><span style=\"color: #005f00\">, </span><span style=\"color: #808000; font-style: italic\">one_of</span><span style=\"color: #005f00\">=</span><span style=\"color: #ff0000; font-style: italic\">False</span><span style=\"color: #005f00\">, </span><span style=\"color: #808000; font-style: italic\">result_attr</span><span style=\"color: #005f00\">=</span><span style=\"color: #008000\">'result'</span><span style=\"color: #005f00\">, </span>\n",
       "<span style=\"color: #808000; font-style: italic\">matches</span><span style=\"color: #005f00\">=</span><span style=\"color: #005f00; font-weight: bold\">[</span><span style=\"color: #008000\">'interfaces.eth0.is_up'</span><span style=\"color: #005f00; font-weight: bold\">])</span>\n",
       "</pre>\n"
      ],
      "text/plain": [
       "<rich.jupyter.JupyterRenderable at 0x7fbd6832a700>"
      ]
     },
     "metadata": {},
     "output_type": "display_data"
    },
    {
     "data": {
      "text/html": [
       "<pre style=\"white-space:pre;overflow-x:auto;line-height:normal;font-family:Menlo,'DejaVu Sans Mono',consolas,'Courier New',monospace\"><span style=\"color: #005f00\">test_until</span><span style=\"color: #005f00; font-weight: bold\">(</span><span style=\"color: #808000; font-style: italic\">fail_task</span><span style=\"color: #005f00\">=</span><span style=\"color: #ff0000; font-style: italic\">False</span><span style=\"color: #005f00\">, </span><span style=\"color: #808000; font-style: italic\">passed</span><span style=\"color: #005f00\">=</span><span style=\"color: #00ff00; font-style: italic\">True</span><span style=\"color: #005f00\">, </span><span style=\"color: #808000; font-style: italic\">exception</span><span style=\"color: #005f00\">=</span><span style=\"color: #008000\">''</span><span style=\"color: #005f00\">, </span><span style=\"color: #808000; font-style: italic\">initial_delay</span><span style=\"color: #005f00\">=</span><span style=\"color: #000080; font-weight: bold\">15</span><span style=\"color: #005f00\">, </span><span style=\"color: #808000; font-style: italic\">retries</span><span style=\"color: #005f00\">=</span><span style=\"color: #000080; font-weight: bold\">10</span><span style=\"color: #005f00\">, </span>\n",
       "<span style=\"color: #808000; font-style: italic\">delay</span><span style=\"color: #005f00\">=</span><span style=\"color: #000080; font-weight: bold\">15</span><span style=\"color: #005f00\">, </span><span style=\"color: #808000; font-style: italic\">reset_conns</span><span style=\"color: #005f00\">=</span><span style=\"color: #00ff00; font-style: italic\">True</span><span style=\"color: #005f00\">, </span><span style=\"color: #808000; font-style: italic\">t0</span><span style=\"color: #005f00\">=</span><span style=\"color: #000080; font-weight: bold\">1599952308.755142</span><span style=\"color: #005f00\">, </span><span style=\"color: #808000; font-style: italic\">t1</span><span style=\"color: #005f00\">=</span><span style=\"color: #000080; font-weight: bold\">1599952365.2296193</span><span style=\"color: #005f00\">, </span>\n",
       "<span style=\"color: #808000; font-style: italic\">run_time</span><span style=\"color: #005f00\">=</span><span style=\"color: #000080; font-weight: bold\">56.47447729110718</span><span style=\"color: #005f00; font-weight: bold\">)</span>\n",
       "</pre>\n"
      ],
      "text/plain": [
       "<rich.jupyter.JupyterRenderable at 0x7fbd68362e50>"
      ]
     },
     "metadata": {},
     "output_type": "display_data"
    },
    {
     "data": {
      "text/html": [
       "<pre style=\"white-space:pre;overflow-x:auto;line-height:normal;font-family:Menlo,'DejaVu Sans Mono',consolas,'Courier New',monospace\"><span style=\"color: #005f00\">^^^^ END napalm_get ^^^^^^^^^^^^^^^^^^^^^^^^^^^^^^^^^^^^^^^^^^^^^^^</span>\n",
       "</pre>\n"
      ],
      "text/plain": [
       "<rich.jupyter.JupyterRenderable at 0x7fbd6832a580>"
      ]
     },
     "metadata": {},
     "output_type": "display_data"
    }
   ],
   "source": [
    "nr.data.reset_failed_hosts()\n",
    "\n",
    "rr.print(\n",
    "    vyos.run(\n",
    "        task=netmiko_send_command,\n",
    "        command_string='reboot now'\n",
    "    )\n",
    ")\n",
    "\n",
    "result = vyos.run(\n",
    "    task=napalm_get,\n",
    "    getters=['interfaces'],\n",
    "    tests=[\n",
    "        test_jsonpath(path='interfaces.eth0.is_up', assertion='is_true', fail_task=True),\n",
    "        test_until(initial_delay=15, retries=10, delay=15, reset_conns=True),\n",
    "    ]\n",
    ")\n",
    "rr.print(result)"
   ]
  },
  {
   "cell_type": "markdown",
   "metadata": {},
   "source": [
    "Not bad.  The result above shows that it must have failed on its first try but by 36 seconds it was able to pass the test_jsonpath test and the call to napalm_get and so test_until finished up.\n",
    "\n",
    "This was pretty haphazard but other tutorials will go into more details about each of the tests."
   ]
  }
 ],
 "metadata": {
  "kernelspec": {
   "display_name": "Python 3.8.2 64-bit ('.venv': venv)",
   "language": "python",
   "name": "python38264bitvenvvenv1c35bb63d8ff4e6aa6d1792b190afa1b"
  },
  "language_info": {
   "codemirror_mode": {
    "name": "ipython",
    "version": 3
   },
   "file_extension": ".py",
   "mimetype": "text/x-python",
   "name": "python",
   "nbconvert_exporter": "python",
   "pygments_lexer": "ipython3",
   "version": "3.8.2"
  }
 },
 "nbformat": 4,
 "nbformat_minor": 2
}
